{
 "cells": [
  {
   "cell_type": "markdown",
   "metadata": {},
   "source": [
    "# LSTM"
   ]
  },
  {
   "cell_type": "markdown",
   "metadata": {},
   "source": [
    "## 라이브러리"
   ]
  },
  {
   "cell_type": "code",
   "execution_count": 49,
   "metadata": {},
   "outputs": [],
   "source": [
    "import pandas as pd\n",
    "import numpy as np\n",
    "import re               # Regular Expression\n",
    "import pickle           # 토큰화된 단어목록의 인덱스를 저장, 불러오기 위해 사용\n",
    "\n",
    "# 토크나이징/인코딩 관련 라이브러리\n",
    "from eunjeon import Mecab\n",
    "from tensorflow.keras.preprocessing.text import Tokenizer\n",
    "from tensorflow.keras.preprocessing.sequence import pad_sequences\n",
    "from sklearn import preprocessing\n",
    "from keras.utils import np_utils\n",
    "\n",
    "# 모델링 관련 라이브러리\n",
    "from tensorflow.keras.models import load_model\n",
    "\n",
    "# 그래프 관련 라이브러리\n",
    "import matplotlib.pyplot as plt\n",
    "import platform\n",
    "\n",
    "# 한글 폰트 설정\n",
    "if (platform.system() == 'Windows'):\n",
    "    plt.rc('font', family='Malgun Gothic')\n",
    "else:\n",
    "    plt.rc('font', family='AppleGothic')\n",
    "\n",
    "# 음수(-)가 깨지는 현상 방지\n",
    "plt.rcParams['axes.unicode_minus'] = False \n",
    "\n"
   ]
  },
  {
   "cell_type": "markdown",
   "metadata": {},
   "source": [
    "데이터 불러오기"
   ]
  },
  {
   "cell_type": "code",
   "execution_count": 50,
   "metadata": {},
   "outputs": [
    {
     "name": "stdout",
     "output_type": "stream",
     "text": [
      "740000 185002 740000 185002\n"
     ]
    }
   ],
   "source": [
    "X_train = np.array(pd.read_csv('./data/mecab/X_train.csv'))\n",
    "X_test = np.array(pd.read_csv('./data/mecab/X_test.csv'))\n",
    "\n",
    "y_train_1 = np.array(pd.read_csv('./data/mecab/y_train.csv')['0'])\n",
    "y_test_1 =  np.array(pd.read_csv('./data/mecab/y_test.csv')['0'])\n",
    "\n",
    "y_train_2 = np.array(pd.read_csv('./data/mecab/y_train.csv')['1'])\n",
    "y_test_2 =  np.array(pd.read_csv('./data/mecab/y_test.csv')['1'])\n",
    "\n",
    "y_train_3 = np.array(pd.read_csv('./data/mecab/y_train.csv')['2'])\n",
    "y_test_3 =  np.array(pd.read_csv('./data/mecab/y_test.csv')['2'])\n",
    "\n",
    "print(len(X_train), len(X_test), len(y_train_1), len(y_test_1))"
   ]
  },
  {
   "cell_type": "code",
   "execution_count": 51,
   "metadata": {},
   "outputs": [],
   "source": [
    "# 한국표준산업분류 딕셔너리 불러오기\n",
    "\n",
    "with open('./data/dictionary/digit_1_dict.pickle', 'rb') as handle:\n",
    "    digit_1_dict = pickle.load(handle)\n",
    "\n",
    "with open('./data/dictionary/digit_2_dict.pickle', 'rb') as handle:\n",
    "    digit_2_dict = pickle.load(handle)\n",
    "\n",
    "with open('./data/dictionary/digit_3_dict.pickle', 'rb') as handle:\n",
    "    digit_3_dict = pickle.load(handle)"
   ]
  },
  {
   "cell_type": "code",
   "execution_count": 52,
   "metadata": {},
   "outputs": [],
   "source": [
    "# 레이블 인코딩\n",
    "\n",
    "le = preprocessing.LabelEncoder()\n",
    "\n",
    "y_train_1 = le.fit_transform(y_train_1)\n",
    "y_test_1 = le.fit_transform(y_test_1)\n",
    "\n",
    "y_train_1 = np_utils.to_categorical(y_train_1)\n",
    "y_test_1 = np_utils.to_categorical(y_test_1)"
   ]
  },
  {
   "cell_type": "code",
   "execution_count": null,
   "metadata": {},
   "outputs": [],
   "source": [
    "from tensorflow.keras.layers import Embedding, Dense, LSTM\n",
    "from tensorflow.keras.models import Sequential\n",
    "from tensorflow.keras.callbacks import EarlyStopping, ModelCheckpoint\n",
    "from tensorflow.keras.optimizers import Adam\n",
    "\n",
    "vocab_size = 32753\n",
    "embedding_dim = 200\n",
    "hidden_units = 128\n",
    "\n",
    "model = Sequential()\n",
    "model.add(Embedding(vocab_size, embedding_dim))\n",
    "model.add(LSTM(hidden_units))\n",
    "model.add(Dense(19, activation='softmax'))\n",
    "\n",
    "es = EarlyStopping(monitor='val_loss', mode='min', verbose=1, patience=4)\n",
    "mc = ModelCheckpoint('best_model.h5', monitor='val_acc', mode='max', verbose=1, save_best_only=True)\n",
    "\n",
    "model.compile(optimizer='adam', loss='categorical_crossentropy', metrics=['acc'])\n",
    "history = model.fit(X_train, y_train_1, epochs=10, callbacks=[es, mc], batch_size=128, validation_split=0.2)"
   ]
  },
  {
   "cell_type": "code",
   "execution_count": null,
   "metadata": {},
   "outputs": [
    {
     "data": {
      "image/png": "[encoded data removed]",
      "text/plain": [
       "<Figure size 432x288 with 1 Axes>"
      ]
     },
     "metadata": {},
     "output_type": "display_data"
    }
   ],
   "source": [
    "y_test_loss = history.history['val_loss']\n",
    "y_train_loss = history.history['loss']\n",
    "\n",
    "x_len = np.arange(len(y_test_loss))\n",
    "plt.plot (x_len, y_test_loss, marker=',', c='red', label='Testset_loss')\n",
    "plt.plot(x_len, y_train_loss, marker=',', c='blue', label='Trainset_loss')\n",
    "\n",
    "plt.legend(loc='upper right')\n",
    "plt.grid()\n",
    "plt.xlabel('epoch')\n",
    "plt.ylabel('loss')\n",
    "plt.show()"
   ]
  },
  {
   "cell_type": "code",
   "execution_count": null,
   "metadata": {},
   "outputs": [
    {
     "name": "stdout",
     "output_type": "stream",
     "text": [
      "5782/5782 [==============================] - 24s 4ms/step - loss: 0.0866 - acc: 0.9757\n",
      "\n",
      " 테스트 정확도: 0.9757\n"
     ]
    }
   ],
   "source": [
    "loaded_model = load_model('./data/model/digit_1_best.h5')\n",
    "print(\"\\n 테스트 정확도: %.4f\" % (loaded_model.evaluate(X_test, y_test_1)[1]))"
   ]
  },
  {
   "cell_type": "markdown",
   "metadata": {},
   "source": [
    "## 대분류 예측기"
   ]
  },
  {
   "cell_type": "code",
   "execution_count": 59,
   "metadata": {},
   "outputs": [],
   "source": [
    "# 저장된 Tokenizer 객체를 불러오는 부분\n",
    "\n",
    "with open('./data/mecab/tokenizer.pickle', 'rb') as handle:\n",
    "    tokenizer = pickle.load(handle)"
   ]
  },
  {
   "cell_type": "code",
   "execution_count": 61,
   "metadata": {},
   "outputs": [],
   "source": [
    "mecab = Mecab()\n",
    "loaded_model = load_model('./data/model/digit_1_best.h5')\n",
    "max_len = 10\n",
    "stopwords = pd.read_csv('./data/stopwords/stopwords_concat.csv', encoding='CP949')\n",
    "\n",
    "\n",
    "def sentiment_predict(new_sentence):\n",
    "  new_sentence = re.sub(r'[^ㄱ-ㅎㅏ-ㅣ가-힣 ]','', new_sentence)\n",
    "  print(new_sentence)\n",
    "  new_sentence = mecab.morphs(new_sentence) # 토큰화\n",
    "  print(new_sentence)\n",
    "  new_sentence = [word for word in new_sentence if not word in stopwords] # 불용어 제거\n",
    "  print(new_sentence)\n",
    "  encoded = tokenizer.texts_to_sequences([\"{}\".format(new_sentence)]) # 정수 인코딩\n",
    "  print(encoded)\n",
    "  pad_new = pad_sequences(encoded, maxlen = max_len) # 패딩\n",
    "  print(pad_new)\n",
    "  label = loaded_model.predict(pad_new) # 예측\n",
    "  print(label)\n",
    "  print(le.inverse_transform([label.argmax()])[0])\n",
    "  print(digit_1_dict[le.inverse_transform([label.argmax()])[0]])"
   ]
  },
  {
   "cell_type": "code",
   "execution_count": null,
   "metadata": {},
   "outputs": [],
   "source": [
    "y_test_predicted = pd.DataFrame(loaded_model.predict(X_test))"
   ]
  },
  {
   "cell_type": "code",
   "execution_count": 62,
   "metadata": {},
   "outputs": [
    {
     "name": "stdout",
     "output_type": "stream",
     "text": [
      "음식점에서접객시설을 갖추고참치회일본식\n",
      "['음식점', '에서', '접객', '시설', '을', '갖추', '고', '참치', '회일', '본식']\n",
      "['음식점', '에서', '접객', '시설', '을', '갖추', '고', '참치', '회일', '본식']\n",
      "[[24, 1, 11, 8, 2, 9, 6, 981, 6963, 9705]]\n",
      "[[  24    1   11    8    2    9    6  981 6963 9705]]\n",
      "[[5.7924325e-07 1.1308610e-08 1.9358824e-05 4.5463850e-09 1.9337454e-09\n",
      "  4.3329024e-07 4.5647630e-05 8.8319587e-07 9.9990976e-01 7.3331243e-09\n",
      "  2.6308946e-09 1.5008824e-07 2.7252206e-06 6.1356773e-06 7.7741253e-09\n",
      "  1.8083243e-06 3.2122675e-06 4.4442691e-06 4.8269562e-06]]\n",
      "I\n",
      "숙박 및 음식점업(55~56)\n"
     ]
    }
   ],
   "source": [
    "sentiment_predict(\"음식점에서|접객시설을 갖추고|참치회(일본식)\")"
   ]
  }
 ],
 "metadata": {
  "interpreter": {
   "hash": "099c82bb4ace82ade8ea00d06692c6005c84f3239a96c9207fc6992d929102eb"
  },
  "kernelspec": {
   "display_name": "Python 3.8.8 ('base')",
   "language": "python",
   "name": "python3"
  },
  "language_info": {
   "codemirror_mode": {
    "name": "ipython",
    "version": 3
   },
   "file_extension": ".py",
   "mimetype": "text/x-python",
   "name": "python",
   "nbconvert_exporter": "python",
   "pygments_lexer": "ipython3",
   "version": "3.8.8"
  },
  "orig_nbformat": 4
 },
 "nbformat": 4,
 "nbformat_minor": 2
}
