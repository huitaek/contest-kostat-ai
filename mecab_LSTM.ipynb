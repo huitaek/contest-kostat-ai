{
 "cells": [
  {
   "cell_type": "markdown",
   "metadata": {},
   "source": [
    "## !! PREPROCESSING.IPYNB로 이관했음, 추후 분리예정"
   ]
  },
  {
   "cell_type": "code",
   "execution_count": 94,
   "metadata": {},
   "outputs": [
    {
     "name": "stdout",
     "output_type": "stream",
     "text": [
      "740000 185002 740000 185002\n"
     ]
    }
   ],
   "source": [
    "import pandas as pd\n",
    "import numpy as np\n",
    "\n",
    "\n",
    "X_train = np.array(pd.read_csv('./data/mecab/X_train.csv'))\n",
    "X_test = np.array(pd.read_csv('./data/mecab/X_test.csv'))\n",
    "y_train_1 = np.array(pd.read_csv('./data/mecab/y_train.csv')['0'])\n",
    "y_test_1 =  np.array(pd.read_csv('./data/mecab/y_test.csv')['0'])\n",
    "y_train_2 = np.array(pd.read_csv('./data/mecab/y_train.csv')['1'])\n",
    "y_test_2 =  np.array(pd.read_csv('./data/mecab/y_test.csv')['1'])\n",
    "y_train_3 = np.array(pd.read_csv('./data/mecab/y_train.csv')['2'])\n",
    "y_test_3 =  np.array(pd.read_csv('./data/mecab/y_test.csv')['2'])\n",
    "\n",
    "print(len(X_train), len(X_test), len(y_train_1), len(y_test_1))"
   ]
  },
  {
   "cell_type": "code",
   "execution_count": 139,
   "metadata": {},
   "outputs": [],
   "source": [
    "from sklearn import preprocessing\n",
    "le = preprocessing.LabelEncoder()\n",
    "y_train_1 = le.fit_transform(y_train_1)\n",
    "y_test_1 = le.fit_transform(y_test_1)\n"
   ]
  },
  {
   "cell_type": "code",
   "execution_count": null,
   "metadata": {},
   "outputs": [],
   "source": [
    "y_train_2 = le.fit_transform(y_train_2)\n",
    "y_test_2 = le.fit_transform(y_test_2)\n",
    "y_train_3 = le.fit_transform(y_train_3)\n",
    "y_test_3 = le.fit_transform(y_test_3)"
   ]
  },
  {
   "cell_type": "code",
   "execution_count": 48,
   "metadata": {},
   "outputs": [],
   "source": [
    "from keras.utils import np_utils\n",
    "y_train_1 = np_utils.to_categorical(y_train_1)\n",
    "y_test_1 = np_utils.to_categorical(y_test_1)\n",
    "\n",
    "y_train_2 = np_utils.to_categorical(y_train_2)\n",
    "y_test_2 = np_utils.to_categorical(y_test_2)\n",
    "\n",
    "y_train_3 = np_utils.to_categorical(y_train_3)\n",
    "y_test_3 = np_utils.to_categorical(y_test_3)"
   ]
  },
  {
   "cell_type": "code",
   "execution_count": 78,
   "metadata": {},
   "outputs": [
    {
     "data": {
      "text/plain": [
       "8"
      ]
     },
     "execution_count": 78,
     "metadata": {},
     "output_type": "execute_result"
    }
   ],
   "source": [
    "y_train_1.argmax()"
   ]
  },
  {
   "cell_type": "code",
   "execution_count": 53,
   "metadata": {},
   "outputs": [
    {
     "name": "stdout",
     "output_type": "stream",
     "text": [
      "Epoch 1/10\n",
      "4625/4625 [==============================] - 376s 81ms/step - loss: 0.1429 - acc: 0.9612 - val_loss: 0.0888 - val_acc: 0.9751\n",
      "\n",
      "Epoch 00001: val_acc improved from -inf to 0.97508, saving model to best_model.h5\n",
      "Epoch 2/10\n",
      "4625/4625 [==============================] - 378s 82ms/step - loss: 0.0719 - acc: 0.9793 - val_loss: 0.0841 - val_acc: 0.9758 0 - ETA: 1s - loss: 0.071\n",
      "\n",
      "Epoch 00002: val_acc improved from 0.97508 to 0.97584, saving model to best_model.h5\n",
      "Epoch 3/10\n",
      "4625/4625 [==============================] - 381s 82ms/step - loss: 0.0589 - acc: 0.9825 - val_loss: 0.0859 - val_acc: 0.9761\n",
      "\n",
      "Epoch 00003: val_acc improved from 0.97584 to 0.97611, saving model to best_model.h5\n",
      "Epoch 4/10\n",
      "4625/4625 [==============================] - 380s 82ms/step - loss: 0.0498 - acc: 0.9850 - val_loss: 0.0885 - val_acc: 0.9760\n",
      "\n",
      "Epoch 00004: val_acc did not improve from 0.97611\n",
      "Epoch 5/10\n",
      "4625/4625 [==============================] - 273s 59ms/step - loss: 0.0426 - acc: 0.9873 - val_loss: 0.0919 - val_acc: 0.9759\n",
      "\n",
      "Epoch 00005: val_acc did not improve from 0.97611\n",
      "Epoch 6/10\n",
      "4625/4625 [==============================] - 176s 38ms/step - loss: 0.0361 - acc: 0.9890 - val_loss: 0.0977 - val_acc: 0.9754\n",
      "\n",
      "Epoch 00006: val_acc did not improve from 0.97611\n",
      "Epoch 00006: early stopping\n"
     ]
    }
   ],
   "source": [
    "from tensorflow.keras.layers import Embedding, Dense, LSTM\n",
    "from tensorflow.keras.models import Sequential\n",
    "from tensorflow.keras.models import load_model\n",
    "from tensorflow.keras.callbacks import EarlyStopping, ModelCheckpoint\n",
    "from tensorflow.keras.optimizers import Adam\n",
    "\n",
    "vocab_size = 19950\n",
    "embedding_dim = 200\n",
    "hidden_units = 128\n",
    "\n",
    "model = Sequential()\n",
    "model.add(Embedding(vocab_size, embedding_dim))\n",
    "model.add(LSTM(hidden_units))\n",
    "model.add(Dense(19, activation='softmax'))\n",
    "\n",
    "es = EarlyStopping(monitor='val_loss', mode='min', verbose=1, patience=4)\n",
    "mc = ModelCheckpoint('best_model.h5', monitor='val_acc', mode='max', verbose=1, save_best_only=True)\n",
    "\n",
    "model.compile(optimizer='adam', loss='categorical_crossentropy', metrics=['acc'])\n",
    "history = model.fit(X_train, y_train_1, epochs=10, callbacks=[es, mc], batch_size=128, validation_split=0.2)"
   ]
  },
  {
   "cell_type": "code",
   "execution_count": 54,
   "metadata": {},
   "outputs": [
    {
     "name": "stdout",
     "output_type": "stream",
     "text": [
      "5782/5782 [==============================] - 18s 3ms/step - loss: 0.0843 - acc: 0.9759\n",
      "\n",
      " 테스트 정확도: 0.9759\n"
     ]
    }
   ],
   "source": [
    "loaded_model = load_model('best_model.h5')\n",
    "print(\"\\n 테스트 정확도: %.4f\" % (loaded_model.evaluate(X_test, y_test_1)[1]))"
   ]
  },
  {
   "cell_type": "code",
   "execution_count": 76,
   "metadata": {},
   "outputs": [
    {
     "name": "stdout",
     "output_type": "stream",
     "text": [
      "Model: \"sequential_1\"\n",
      "_________________________________________________________________\n",
      "Layer (type)                 Output Shape              Param #   \n",
      "=================================================================\n",
      "embedding_1 (Embedding)      (None, None, 200)         3990000   \n",
      "_________________________________________________________________\n",
      "lstm_1 (LSTM)                (None, 128)               168448    \n",
      "_________________________________________________________________\n",
      "dense_1 (Dense)              (None, 19)                2451      \n",
      "=================================================================\n",
      "Total params: 4,160,899\n",
      "Trainable params: 4,160,899\n",
      "Non-trainable params: 0\n",
      "_________________________________________________________________\n"
     ]
    }
   ],
   "source": [
    "loaded_model.summary()"
   ]
  },
  {
   "cell_type": "code",
   "execution_count": 70,
   "metadata": {},
   "outputs": [],
   "source": [
    "import pandas as pd\n",
    "import numpy as np\n",
    "import re\n",
    "\n",
    "import seaborn as sns\n",
    "import numpy as np\n",
    "import matplotlib.pyplot as plt\n",
    "import matplotlib.patches as mpatches\n",
    "\n",
    "from eunjeon import Mecab\n",
    "from tqdm import tqdm # 진행상황 Progress Bar를 위한 tqdm library\n",
    "from tensorflow.keras.preprocessing.text import Tokenizer\n",
    "from tensorflow.keras.preprocessing.sequence import pad_sequences\n",
    "from tensorflow.math import argmax"
   ]
  },
  {
   "cell_type": "code",
   "execution_count": 88,
   "metadata": {},
   "outputs": [
    {
     "name": "stderr",
     "output_type": "stream",
     "text": [
      "100%|██████████| 21/21 [00:00<00:00, 6899.07it/s]\n",
      "100%|██████████| 77/77 [00:00<00:00, 5132.73it/s]\n",
      "100%|██████████| 232/232 [00:00<00:00, 5155.22it/s]\n"
     ]
    }
   ],
   "source": [
    "# 한국표준산업분류 딕셔너리 생성\n",
    "\n",
    "cat_dic = pd.read_excel('./data/한국표준산업분류(10차)_국문.xlsx').iloc[2:,0:6]\n",
    "cat_dic.rename(columns={'개정 분류체계(제10차 기준)':'대분류', 'Unnamed: 1':'대분류명', \n",
    "                        'Unnamed: 2': '중분류', 'Unnamed: 3': '중분류명',\n",
    "                        'Unnamed: 4': '소분류', 'Unnamed: 5': '소분류명'}, inplace=True)\n",
    "\n",
    "digit_1_df = cat_dic[['대분류', '대분류명']].dropna().reset_index(drop=True) # 대분류 'A' ~ 'U'\n",
    "digit_2_df = cat_dic[['중분류', '중분류명']].dropna().reset_index(drop=True) # 중분류 1 ~ 99\n",
    "digit_3_df = cat_dic[['소분류', '소분류명']].dropna().reset_index(drop=True) # 소분류 11 ~ 990\n",
    "\n",
    "digit_1_dict = {}\n",
    "for i in tqdm(range(len(digit_1_df))):\n",
    "    digit_1_dict[digit_1_df.iloc[i]['대분류']] = digit_1_df.iloc[i]['대분류명']\n",
    "\n",
    "digit_2_dict = {}\n",
    "for i in tqdm(range(len(digit_2_df))):\n",
    "    digit_2_dict[int(digit_2_df.iloc[i]['중분류'])] = digit_2_df.iloc[i]['중분류명']\n",
    "\n",
    "digit_3_dict = {}\n",
    "for i in tqdm(range(len(digit_3_df))):\n",
    "    digit_3_dict[int(digit_3_df.iloc[i]['소분류'])] = digit_3_df.iloc[i]['소분류명']"
   ]
  },
  {
   "cell_type": "code",
   "execution_count": 114,
   "metadata": {},
   "outputs": [],
   "source": [
    "mecab = Mecab()\n",
    "tokenizer = Tokenizer()\n",
    "stopwords = pd.read_csv(\"./data/stopwords/stopwords_concat.csv\", encoding='CP949') \n",
    "stopwords = list(stopwords)\n",
    "max_len = 10"
   ]
  },
  {
   "cell_type": "code",
   "execution_count": 146,
   "metadata": {},
   "outputs": [],
   "source": [
    "def sentiment_predict(new_sentence):\n",
    "  new_sentence = re.sub(r'[^ㄱ-ㅎㅏ-ㅣ가-힣 ]','', new_sentence)\n",
    "  print(new_sentence)\n",
    "  new_sentence = mecab.morphs(new_sentence) # 토큰화\n",
    "  print(new_sentence)\n",
    "  new_sentence = [word for word in new_sentence if not word in stopwords] # 불용어 제거\n",
    "  print(new_sentence)\n",
    "  encoded = tokenizer.texts_to_sequences([new_sentence]) # 정수 인코딩\n",
    "  print(encoded)\n",
    "  pad_new = pad_sequences(encoded, maxlen = max_len) # 패딩\n",
    "  print(pad_new)\n",
    "  label = loaded_model.predict(pad_new) # 예측\n",
    "  print(label)\n",
    "  print(digit_1_dict[le.inverse_transform([label.argmax()])[0]])"
   ]
  },
  {
   "cell_type": "code",
   "execution_count": null,
   "metadata": {},
   "outputs": [],
   "source": [
    "구두가게에서 일반인을 대상으로 구두소매"
   ]
  },
  {
   "cell_type": "code",
   "execution_count": 138,
   "metadata": {},
   "outputs": [
    {
     "data": {
      "text/plain": [
       "{'A': '농업, 임업 및 어업(01~03)',\n",
       " 'B': '광업(05~08)',\n",
       " 'C': '제조업(10~34)',\n",
       " 'D': '전기, 가스, 증기 및 공기 조절 공급업(35)',\n",
       " 'E': '수도, 하수 및 폐기물 처리, 원료 재생업(36~39)',\n",
       " 'F': '건설업(41~42)',\n",
       " 'G': '도매 및 소매업(45~47)',\n",
       " 'H': '운수 및 창고업(49~52)',\n",
       " 'I': '숙박 및 음식점업(55~56)',\n",
       " 'J': '정보통신업(58~63)',\n",
       " 'K': '금융 및 보험업(64~66)',\n",
       " 'L': '부동산업(68)',\n",
       " 'M': '전문, 과학 및 기술 서비스업(70~73)',\n",
       " 'N': '사업시설 관리, 사업 지원 및 임대 서비스업(74~76)',\n",
       " 'O': '공공 행정, 국방 및 사회보장 행정(84)',\n",
       " 'P': '교육 서비스업(85)',\n",
       " 'Q': '보건업 및 사회복지 서비스업(86~87)',\n",
       " 'R': '예술, 스포츠 및 여가관련 서비스업(90~91)',\n",
       " 'S': '협회 및 단체, 수리 및 기타 개인 서비스업(94~96)',\n",
       " 'T': '가구 내 고용활동 및 달리 분류되지 않은 자가 소비 생산활동(97~98)',\n",
       " 'U': '국제 및 외국기관(99)'}"
      ]
     },
     "execution_count": 138,
     "metadata": {},
     "output_type": "execute_result"
    }
   ],
   "source": [
    "digit_1_dict"
   ]
  },
  {
   "cell_type": "code",
   "execution_count": 137,
   "metadata": {},
   "outputs": [
    {
     "data": {
      "text/plain": [
       "array(['A', 'B', 'C', 'D', 'E', 'F', 'G', 'H', 'I', 'J', 'K', 'L', 'M',\n",
       "       'N', 'O', 'P', 'Q', 'R', 'S'], dtype=object)"
      ]
     },
     "execution_count": 137,
     "metadata": {},
     "output_type": "execute_result"
    }
   ],
   "source": [
    "le.classes_"
   ]
  },
  {
   "cell_type": "code",
   "execution_count": 148,
   "metadata": {},
   "outputs": [
    {
     "name": "stdout",
     "output_type": "stream",
     "text": [
      "쌀을 가지고가공하여떡제조\n",
      "['쌀', '을', '가지', '고', '가공', '하', '여', '떡', '제조']\n",
      "['쌀', '을', '가지', '고', '가공', '하', '여', '떡', '제조']\n",
      "[[9, 2, 10, 11, 12, 13, 14, 15, 16]]\n",
      "[[ 0  9  2 10 11 12 13 14 15 16]]\n",
      "[[1.08232035e-03 1.57818128e-03 2.46537682e-02 2.30564061e-03\n",
      "  4.23182640e-03 1.50569575e-02 7.90182233e-01 1.19435318e-01\n",
      "  1.20275719e-02 2.80325511e-03 4.15205344e-04 2.66796025e-03\n",
      "  1.11436211e-02 4.01561148e-03 7.70625367e-04 8.72150646e-04\n",
      "  1.85668922e-03 8.50530691e-04 4.05047927e-03]]\n"
     ]
    },
    {
     "ename": "KeyError",
     "evalue": "6",
     "output_type": "error",
     "traceback": [
      "\u001b[1;31m---------------------------------------------------------------------------\u001b[0m",
      "\u001b[1;31mKeyError\u001b[0m                                  Traceback (most recent call last)",
      "\u001b[1;32m<ipython-input-148-f45319481802>\u001b[0m in \u001b[0;36m<module>\u001b[1;34m\u001b[0m\n\u001b[1;32m----> 1\u001b[1;33m \u001b[0msentiment_predict\u001b[0m\u001b[1;33m(\u001b[0m\u001b[1;34m'쌀을 가지고|가공하여|떡제조'\u001b[0m\u001b[1;33m)\u001b[0m\u001b[1;33m\u001b[0m\u001b[1;33m\u001b[0m\u001b[0m\n\u001b[0m",
      "\u001b[1;32m<ipython-input-146-8293fbb8b2d1>\u001b[0m in \u001b[0;36msentiment_predict\u001b[1;34m(new_sentence)\u001b[0m\n\u001b[0;32m     12\u001b[0m   \u001b[0mlabel\u001b[0m \u001b[1;33m=\u001b[0m \u001b[0mloaded_model\u001b[0m\u001b[1;33m.\u001b[0m\u001b[0mpredict\u001b[0m\u001b[1;33m(\u001b[0m\u001b[0mpad_new\u001b[0m\u001b[1;33m)\u001b[0m \u001b[1;31m# 예측\u001b[0m\u001b[1;33m\u001b[0m\u001b[1;33m\u001b[0m\u001b[0m\n\u001b[0;32m     13\u001b[0m   \u001b[0mprint\u001b[0m\u001b[1;33m(\u001b[0m\u001b[0mlabel\u001b[0m\u001b[1;33m)\u001b[0m\u001b[1;33m\u001b[0m\u001b[1;33m\u001b[0m\u001b[0m\n\u001b[1;32m---> 14\u001b[1;33m   \u001b[0mprint\u001b[0m\u001b[1;33m(\u001b[0m\u001b[0mdigit_1_dict\u001b[0m\u001b[1;33m[\u001b[0m\u001b[0mle\u001b[0m\u001b[1;33m.\u001b[0m\u001b[0minverse_transform\u001b[0m\u001b[1;33m(\u001b[0m\u001b[1;33m[\u001b[0m\u001b[0mlabel\u001b[0m\u001b[1;33m.\u001b[0m\u001b[0margmax\u001b[0m\u001b[1;33m(\u001b[0m\u001b[1;33m)\u001b[0m\u001b[1;33m]\u001b[0m\u001b[1;33m)\u001b[0m\u001b[1;33m[\u001b[0m\u001b[1;36m0\u001b[0m\u001b[1;33m]\u001b[0m\u001b[1;33m]\u001b[0m\u001b[1;33m)\u001b[0m\u001b[1;33m\u001b[0m\u001b[1;33m\u001b[0m\u001b[0m\n\u001b[0m",
      "\u001b[1;31mKeyError\u001b[0m: 6"
     ]
    }
   ],
   "source": [
    "sentiment_predict('쌀을 가지고|가공하여|떡제조')"
   ]
  },
  {
   "cell_type": "code",
   "execution_count": 122,
   "metadata": {},
   "outputs": [
    {
     "data": {
      "text/plain": [
       "'숙박 및 음식점업(55~56)'"
      ]
     },
     "execution_count": 122,
     "metadata": {},
     "output_type": "execute_result"
    }
   ],
   "source": []
  },
  {
   "cell_type": "code",
   "execution_count": null,
   "metadata": {},
   "outputs": [],
   "source": [
    "le.inverse_transform([label.argmax()])[0]"
   ]
  },
  {
   "cell_type": "code",
   "execution_count": 119,
   "metadata": {},
   "outputs": [
    {
     "data": {
      "text/plain": [
       "array([[1.6976253e-04, 5.4305434e-05, 3.5700612e-04, 2.5740022e-05,\n",
       "        3.6520050e-05, 8.6037413e-04, 7.2269826e-03, 3.5431760e-04,\n",
       "        8.6225563e-01, 1.0106920e-03, 1.1226628e-03, 1.0101624e-03,\n",
       "        1.8476601e-03, 2.4819549e-03, 1.7784047e-05, 2.4636678e-02,\n",
       "        3.0528158e-03, 6.1916668e-02, 3.1562213e-02]], dtype=float32)"
      ]
     },
     "execution_count": 119,
     "metadata": {},
     "output_type": "execute_result"
    }
   ],
   "source": [
    "label"
   ]
  },
  {
   "cell_type": "code",
   "execution_count": 106,
   "metadata": {},
   "outputs": [
    {
     "data": {
      "text/plain": [
       "array([[0.12797637, 0.08861163, 0.08251524, 0.02988727, 0.06311161,\n",
       "        0.02287801, 0.03186466, 0.02674469, 0.02942831, 0.02350585,\n",
       "        0.05054095, 0.01838752, 0.01585915, 0.01778417, 0.04686501,\n",
       "        0.12415843, 0.06648891, 0.08605903, 0.04733315]], dtype=float32)"
      ]
     },
     "execution_count": 106,
     "metadata": {},
     "output_type": "execute_result"
    }
   ],
   "source": [
    "label"
   ]
  },
  {
   "cell_type": "code",
   "execution_count": null,
   "metadata": {},
   "outputs": [],
   "source": [
    "절에서 신도을 대상으로 불교단체운영"
   ]
  },
  {
   "cell_type": "code",
   "execution_count": 121,
   "metadata": {},
   "outputs": [
    {
     "data": {
      "text/plain": [
       "'I'"
      ]
     },
     "execution_count": 121,
     "metadata": {},
     "output_type": "execute_result"
    }
   ],
   "source": []
  },
  {
   "cell_type": "code",
   "execution_count": 120,
   "metadata": {},
   "outputs": [
    {
     "data": {
      "text/plain": [
       "8"
      ]
     },
     "execution_count": 120,
     "metadata": {},
     "output_type": "execute_result"
    }
   ],
   "source": []
  },
  {
   "cell_type": "code",
   "execution_count": 100,
   "metadata": {},
   "outputs": [
    {
     "data": {
      "text/plain": [
       "'농업, 임업 및 어업(01~03)'"
      ]
     },
     "execution_count": 100,
     "metadata": {},
     "output_type": "execute_result"
    }
   ],
   "source": []
  },
  {
   "cell_type": "code",
   "execution_count": 99,
   "metadata": {},
   "outputs": [
    {
     "data": {
      "text/plain": [
       "'A'"
      ]
     },
     "execution_count": 99,
     "metadata": {},
     "output_type": "execute_result"
    }
   ],
   "source": []
  },
  {
   "cell_type": "code",
   "execution_count": 96,
   "metadata": {},
   "outputs": [
    {
     "data": {
      "text/plain": [
       "array(['A', 'B', 'C', 'D', 'E', 'F', 'G', 'H', 'I', 'J', 'K', 'L', 'M',\n",
       "       'N', 'O', 'P', 'Q', 'R', 'S'], dtype=object)"
      ]
     },
     "execution_count": 96,
     "metadata": {},
     "output_type": "execute_result"
    }
   ],
   "source": []
  }
 ],
 "metadata": {
  "interpreter": {
   "hash": "099c82bb4ace82ade8ea00d06692c6005c84f3239a96c9207fc6992d929102eb"
  },
  "kernelspec": {
   "display_name": "Python 3.8.8 ('base')",
   "language": "python",
   "name": "python3"
  },
  "language_info": {
   "codemirror_mode": {
    "name": "ipython",
    "version": 3
   },
   "file_extension": ".py",
   "mimetype": "text/x-python",
   "name": "python",
   "nbconvert_exporter": "python",
   "pygments_lexer": "ipython3",
   "version": "3.8.8"
  },
  "orig_nbformat": 4
 },
 "nbformat": 4,
 "nbformat_minor": 2
}
