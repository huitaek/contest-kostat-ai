{
 "cells": [
  {
   "cell_type": "markdown",
   "metadata": {},
   "source": [
    "# LSTM"
   ]
  },
  {
   "cell_type": "markdown",
   "metadata": {},
   "source": [
    "## 라이브러리"
   ]
  },
  {
   "cell_type": "code",
   "execution_count": 4,
   "metadata": {},
   "outputs": [],
   "source": [
    "import pandas as pd\n",
    "import numpy as np\n",
    "import re               # Regular Expression\n",
    "import pickle           # 토큰화된 단어목록의 인덱스를 저장, 불러오기 위해 사용\n",
    "from tqdm import tqdm   # 진행상황 Progress Bar를 위한 tqdm library\n",
    "\n",
    "# 토크나이징/인코딩 관련 라이브러리\n",
    "from eunjeon import Mecab\n",
    "from tensorflow.keras.preprocessing.text import Tokenizer\n",
    "from tensorflow.keras.preprocessing.sequence import pad_sequences\n",
    "from sklearn import preprocessing\n",
    "from keras.utils import np_utils\n",
    "\n",
    "# 모델링 관련 라이브러리\n",
    "from tensorflow.keras.models import load_model\n",
    "\n",
    "# 그래프 관련 라이브러리\n",
    "import matplotlib.pyplot as plt\n",
    "import platform\n",
    "\n",
    "# 한글 폰트 설정\n",
    "if (platform.system() == 'Windows'):\n",
    "    plt.rc('font', family='Malgun Gothic')\n",
    "else:\n",
    "    plt.rc('font', family='AppleGothic')\n",
    "\n",
    "# 음수(-)가 깨지는 현상 방지\n",
    "plt.rcParams['axes.unicode_minus'] = False \n",
    "\n"
   ]
  },
  {
   "cell_type": "markdown",
   "metadata": {},
   "source": [
    "데이터 불러오기"
   ]
  },
  {
   "cell_type": "code",
   "execution_count": 5,
   "metadata": {},
   "outputs": [],
   "source": [
    "X_train = np.array(pd.read_csv('./data/mecab/X_train.csv'))\n",
    "X_test = np.array(pd.read_csv('./data/mecab/X_test.csv'))\n",
    "\n",
    "y_train_1 = pd.read_csv('./data/mecab/y_train.csv')['digit_1']\n",
    "y_test_1 =  pd.read_csv('./data/mecab/y_test.csv')['digit_1']\n",
    "\n",
    "y_train_2 = pd.read_csv('./data/mecab/y_train.csv')['digit_2']\n",
    "y_test_2 =  pd.read_csv('./data/mecab/y_test.csv')['digit_2']\n",
    "\n",
    "y_train_3 = pd.read_csv('./data/mecab/y_train.csv')['digit_3']\n",
    "y_test_3 =  pd.read_csv('./data/mecab/y_test.csv')['digit_3']"
   ]
  },
  {
   "cell_type": "code",
   "execution_count": 6,
   "metadata": {},
   "outputs": [],
   "source": [
    "# 한국표준산업분류 딕셔너리 불러오기\n",
    "\n",
    "with open('./data/dictionary/digit_1_dict.pickle', 'rb') as handle:\n",
    "    digit_1_dict = pickle.load(handle)\n",
    "\n",
    "with open('./data/dictionary/digit_2_dict.pickle', 'rb') as handle:\n",
    "    digit_2_dict = pickle.load(handle)\n",
    "\n",
    "with open('./data/dictionary/digit_3_dict.pickle', 'rb') as handle:\n",
    "    digit_3_dict = pickle.load(handle)"
   ]
  },
  {
   "cell_type": "code",
   "execution_count": 7,
   "metadata": {},
   "outputs": [],
   "source": [
    "# 저장된 Tokenizer 객체를 불러오는 부분\n",
    "\n",
    "with open('./data/mecab/tokenizer.pickle', 'rb') as handle:\n",
    "    tokenizer = pickle.load(handle)"
   ]
  },
  {
   "cell_type": "markdown",
   "metadata": {},
   "source": [
    "## 대분류"
   ]
  },
  {
   "cell_type": "code",
   "execution_count": 7,
   "metadata": {},
   "outputs": [],
   "source": [
    "# 레이블 인코딩\n",
    "\n",
    "digit_1_list = list(digit_1_dict.keys())\n",
    "\n",
    "le1 = preprocessing.LabelEncoder()\n",
    "\n",
    "le1.fit(digit_1_list)\n",
    "y_train_1 = le1.transform(y_train_1)\n",
    "y_test_1 = le1.transform(y_test_1)\n",
    "\n",
    "y_train_1 = np_utils.to_categorical(y_train_1)\n",
    "y_test_1 = np_utils.to_categorical(y_test_1)"
   ]
  },
  {
   "cell_type": "code",
   "execution_count": 130,
   "metadata": {},
   "outputs": [],
   "source": [
    "# le1 객체에 담긴 어휘 분석 정보가 폴더의 le1.pickle에 저장\n",
    "\n",
    "with open('./data/mecab/le1.pickle', 'wb') as handle:\n",
    "     pickle.dump(le1, handle)"
   ]
  },
  {
   "cell_type": "code",
   "execution_count": 8,
   "metadata": {},
   "outputs": [],
   "source": [
    "# 저장된 le1 객체를 불러오는 부분\n",
    "\n",
    "with open('./data/mecab/le1.pickle', 'rb') as handle:\n",
    "    le1 = pickle.load(handle)"
   ]
  },
  {
   "cell_type": "code",
   "execution_count": 115,
   "metadata": {},
   "outputs": [
    {
     "name": "stdout",
     "output_type": "stream",
     "text": [
      "Epoch 1/10\n",
      "5000/5000 [==============================] - 544s 109ms/step - loss: 0.1471 - acc: 0.9593 - val_loss: 0.0949 - val_acc: 0.9722\n",
      "\n",
      "Epoch 00001: val_acc improved from -inf to 0.97217, saving model to best_model.h5\n",
      "Epoch 2/10\n",
      "5000/5000 [==============================] - 542s 108ms/step - loss: 0.0762 - acc: 0.9775 - val_loss: 0.0911 - val_acc: 0.9734\n",
      "\n",
      "Epoch 00002: val_acc improved from 0.97217 to 0.97343, saving model to best_model.h5\n",
      "Epoch 3/10\n",
      "5000/5000 [==============================] - 545s 109ms/step - loss: 0.0622 - acc: 0.9814 - val_loss: 0.0898 - val_acc: 0.9742\n",
      "\n",
      "Epoch 00003: val_acc improved from 0.97343 to 0.97417, saving model to best_model.h5\n",
      "Epoch 4/10\n",
      "5000/5000 [==============================] - 537s 107ms/step - loss: 0.0529 - acc: 0.9840 - val_loss: 0.0934 - val_acc: 0.9740\n",
      "\n",
      "Epoch 00004: val_acc did not improve from 0.97417\n",
      "Epoch 5/10\n",
      "5000/5000 [==============================] - 537s 107ms/step - loss: 0.0454 - acc: 0.9862 - val_loss: 0.0978 - val_acc: 0.9738\n",
      "\n",
      "Epoch 00005: val_acc did not improve from 0.97417\n",
      "Epoch 6/10\n",
      "5000/5000 [==============================] - 538s 108ms/step - loss: 0.0388 - acc: 0.9882 - val_loss: 0.1039 - val_acc: 0.9732\n",
      "\n",
      "Epoch 00006: val_acc did not improve from 0.97417\n",
      "Epoch 7/10\n",
      "5000/5000 [==============================] - 516s 103ms/step - loss: 0.0331 - acc: 0.9899 - val_loss: 0.1111 - val_acc: 0.9726\n",
      "\n",
      "Epoch 00007: val_acc did not improve from 0.97417\n",
      "Epoch 00007: early stopping\n"
     ]
    },
    {
     "data": {
      "image/png": "[encoded data removed]",
      "text/plain": [
       "<Figure size 432x288 with 1 Axes>"
      ]
     },
     "metadata": {
      "needs_background": "light"
     },
     "output_type": "display_data"
    }
   ],
   "source": [
    "from tensorflow.keras.layers import Embedding, Dense, LSTM\n",
    "from tensorflow.keras.models import Sequential\n",
    "from tensorflow.keras.callbacks import EarlyStopping, ModelCheckpoint\n",
    "from tensorflow.keras.optimizers import Adam\n",
    "\n",
    "vocab_size = 34265\n",
    "embedding_dim = 200\n",
    "hidden_units = 128\n",
    "\n",
    "model = Sequential()\n",
    "model.add(Embedding(vocab_size, embedding_dim))\n",
    "model.add(LSTM(hidden_units))\n",
    "model.add(Dense(19, activation='softmax'))\n",
    "\n",
    "es = EarlyStopping(monitor='val_loss', mode='min', verbose=1, patience=2)\n",
    "mc = ModelCheckpoint('ed200_hu128_ep10_bs128_sftmx_cc.h5', monitor='val_acc', mode='max', verbose=1, save_best_only=True)\n",
    "\n",
    "model.compile(optimizer='adam', loss='categorical_crossentropy', metrics=['acc'])\n",
    "history = model.fit(X_train, y_train_1, epochs=10, callbacks=[es, mc], batch_size=128, validation_split=0.2)\n",
    "\n",
    "y_test_loss = history.history['val_loss']\n",
    "y_train_loss = history.history['loss']\n",
    "\n",
    "x_len = np.arange(len(y_test_loss))\n",
    "\n",
    "plt.plot (x_len, y_test_loss, marker=',', c='red', label='Testset_loss')\n",
    "plt.plot(x_len, y_train_loss, marker=',', c='blue', label='Trainset_loss')\n",
    "\n",
    "plt.legend(loc='upper right')\n",
    "plt.grid()\n",
    "plt.xlabel('epoch')\n",
    "plt.ylabel('loss')\n",
    "plt.show()"
   ]
  },
  {
   "cell_type": "code",
   "execution_count": 116,
   "metadata": {},
   "outputs": [
    {
     "name": "stdout",
     "output_type": "stream",
     "text": [
      "6250/6250 [==============================] - 50s 8ms/step - loss: 0.0903 - acc: 0.9744\n",
      "\n",
      " 테스트 정확도: 0.9744\n"
     ]
    }
   ],
   "source": [
    "loaded_model = load_model('./data/model/ed200_hu128_ep10_bs128_sftmx_cc.h5')\n",
    "print(\"\\n 테스트 정확도: %.4f\" % (loaded_model.evaluate(X_test, y_test_1)[1]))"
   ]
  },
  {
   "cell_type": "markdown",
   "metadata": {},
   "source": [
    "### 대분류 예측기"
   ]
  },
  {
   "cell_type": "code",
   "execution_count": 9,
   "metadata": {},
   "outputs": [],
   "source": [
    "# 저장된 Tokenizer 객체를 불러오는 부분\n",
    "\n",
    "with open('./data/mecab/tokenizer.pickle', 'rb') as handle:\n",
    "    tokenizer = pickle.load(handle)"
   ]
  },
  {
   "cell_type": "code",
   "execution_count": 10,
   "metadata": {},
   "outputs": [],
   "source": [
    "mecab = Mecab()\n",
    "loaded_model = load_model('./data/model/digit1_ed200_hu128_ep10_bs128_sftmx_cc.h5')\n",
    "max_len = 15\n",
    "stopwords = pd.read_csv('./data/stopwords/stopwords_concat.csv')\n",
    "stopwords = list(stopwords['stopwords'])\n",
    "\n",
    "\n",
    "def sentiment_predict(new_sentence):\n",
    "  new_sentence = re.sub(r'[^ㄱ-ㅎㅏ-ㅣ가-힣 ]','', new_sentence)\n",
    "  print(new_sentence)\n",
    "  new_sentence = mecab.morphs(new_sentence) # 토큰화\n",
    "  print(new_sentence)\n",
    "  new_sentence = [word for word in new_sentence if not word in stopwords] # 불용어 제거\n",
    "  print(new_sentence)\n",
    "  encoded = tokenizer.texts_to_sequences([\"{}\".format(new_sentence)]) # 정수 인코딩\n",
    "  print(encoded)\n",
    "  pad_new = pad_sequences(encoded, maxlen = max_len) # 패딩\n",
    "  print(pad_new)\n",
    "  label = loaded_model.predict(pad_new) # 예측\n",
    "  print(label)\n",
    "  print(le1.inverse_transform([label.argmax()])[0])\n",
    "  print(digit_1_dict[le1.inverse_transform([label.argmax()])[0]])"
   ]
  },
  {
   "cell_type": "code",
   "execution_count": 14,
   "metadata": {},
   "outputs": [
    {
     "name": "stdout",
     "output_type": "stream",
     "text": [
      "영어학원일반학생대상영어교육\n",
      "['영어', '학원', '일반', '학생', '대상', '영어', '교육']\n",
      "['영어', '학원', '일반', '학생', '대상', '영어', '교육']\n",
      "[[106, 30, 10, 38, 1, 106, 28]]\n",
      "[[  0   0   0   0   0   0   0   0 106  30  10  38   1 106  28]]\n",
      "[[5.7345243e-08 1.1560589e-08 2.9986288e-06 2.8665038e-06 2.0302210e-07\n",
      "  7.7990717e-06 5.7014058e-05 4.5893921e-06 4.8692423e-06 4.3501909e-06\n",
      "  1.5617986e-06 1.2795882e-06 4.7236504e-06 1.2511338e-05 9.3588060e-06\n",
      "  9.9980289e-01 5.3274189e-06 3.3921562e-05 4.3601154e-05]]\n",
      "P\n",
      "교육 서비스업(85)\n"
     ]
    }
   ],
   "source": [
    "sentiment_predict(\"영어학원|일반학생대상|영어교육\")"
   ]
  },
  {
   "cell_type": "code",
   "execution_count": null,
   "metadata": {},
   "outputs": [],
   "source": [
    "# y_test_1_predicted = pd.DataFrame(loaded_model.predict(X_test))"
   ]
  },
  {
   "cell_type": "markdown",
   "metadata": {},
   "source": [
    "## 중분류"
   ]
  },
  {
   "cell_type": "code",
   "execution_count": 16,
   "metadata": {},
   "outputs": [
    {
     "data": {
      "text/plain": [
       "74"
      ]
     },
     "execution_count": 16,
     "metadata": {},
     "output_type": "execute_result"
    }
   ],
   "source": [
    "len(pd.DataFrame(y_train_2)['digit_2'].unique())"
   ]
  },
  {
   "cell_type": "code",
   "execution_count": 17,
   "metadata": {},
   "outputs": [
    {
     "data": {
      "text/plain": [
       "77"
      ]
     },
     "execution_count": 17,
     "metadata": {},
     "output_type": "execute_result"
    }
   ],
   "source": [
    "len(digit_2_dict)"
   ]
  },
  {
   "cell_type": "code",
   "execution_count": 15,
   "metadata": {},
   "outputs": [],
   "source": [
    "# 레이블 인코딩\n",
    "\n",
    "digit_2_list = list(digit_2_dict.keys())\n",
    "\n",
    "le2 = preprocessing.LabelEncoder()\n",
    "\n",
    "le2.fit(digit_2_list)\n",
    "y_train_2 = le2.transform(y_train_2)\n",
    "y_test_2 = le2.transform(y_test_2)\n",
    "\n",
    "y_train_2 = np_utils.to_categorical(y_train_2, num_classes=len(digit_2_list))\n",
    "y_test_2 = np_utils.to_categorical(y_test_2, num_classes=len(digit_2_list))"
   ]
  },
  {
   "cell_type": "code",
   "execution_count": 20,
   "metadata": {},
   "outputs": [
    {
     "data": {
      "text/plain": [
       "77"
      ]
     },
     "execution_count": 20,
     "metadata": {},
     "output_type": "execute_result"
    }
   ],
   "source": [
    "len(y_train_2[0])"
   ]
  },
  {
   "cell_type": "code",
   "execution_count": 21,
   "metadata": {},
   "outputs": [
    {
     "data": {
      "text/plain": [
       "77"
      ]
     },
     "execution_count": 21,
     "metadata": {},
     "output_type": "execute_result"
    }
   ],
   "source": [
    "len(y_test_2[0])"
   ]
  },
  {
   "cell_type": "code",
   "execution_count": 24,
   "metadata": {},
   "outputs": [
    {
     "name": "stdout",
     "output_type": "stream",
     "text": [
      "Epoch 1/10\n",
      "6400/6400 [==============================] - 646s 101ms/step - loss: 0.3489 - acc: 0.9098 - val_loss: 0.2221 - val_acc: 0.9370\n",
      "\n",
      "Epoch 00001: val_acc improved from -inf to 0.93696, saving model to best_model.h5\n",
      "Epoch 2/10\n",
      "6400/6400 [==============================] - 648s 101ms/step - loss: 0.1834 - acc: 0.9470 - val_loss: 0.2120 - val_acc: 0.9393\n",
      "\n",
      "Epoch 00002: val_acc improved from 0.93696 to 0.93928, saving model to best_model.h5\n",
      "Epoch 3/10\n",
      "6400/6400 [==============================] - 570s 89ms/step - loss: 0.1523 - acc: 0.9548 - val_loss: 0.2094 - val_acc: 0.9409\n",
      "\n",
      "Epoch 00003: val_acc improved from 0.93928 to 0.94093, saving model to best_model.h5\n",
      "Epoch 4/10\n",
      "6400/6400 [==============================] - 493s 77ms/step - loss: 0.1317 - acc: 0.9602 - val_loss: 0.2167 - val_acc: 0.9405\n",
      "\n",
      "Epoch 00004: val_acc did not improve from 0.94093\n",
      "Epoch 5/10\n",
      "6400/6400 [==============================] - 359s 56ms/step - loss: 0.1159 - acc: 0.9646 - val_loss: 0.2252 - val_acc: 0.9396\n",
      "\n",
      "Epoch 00005: val_acc did not improve from 0.94093\n",
      "Epoch 00005: early stopping\n"
     ]
    }
   ],
   "source": [
    "from tensorflow.keras.layers import Embedding, Dense, LSTM\n",
    "from tensorflow.keras.models import Sequential\n",
    "from tensorflow.keras.callbacks import EarlyStopping, ModelCheckpoint\n",
    "from tensorflow.keras.optimizers import Adam\n",
    "\n",
    "vocab_size = 34265\n",
    "embedding_dim = 200\n",
    "hidden_units = 128\n",
    "\n",
    "model = Sequential()\n",
    "model.add(Embedding(vocab_size, embedding_dim))\n",
    "model.add(LSTM(hidden_units))\n",
    "model.add(Dense(77, activation='softmax'))\n",
    "\n",
    "es = EarlyStopping(monitor='val_loss', mode='min', verbose=1, patience=2)\n",
    "mc = ModelCheckpoint('best_model.h5', monitor='val_acc', mode='max', verbose=1, save_best_only=True)\n",
    "\n",
    "model.compile(optimizer='adam', loss='categorical_crossentropy', metrics=['acc'])\n",
    "history = model.fit(X_train, y_train_2, epochs=10, callbacks=[es, mc], batch_size=100, validation_split=0.2)"
   ]
  },
  {
   "cell_type": "code",
   "execution_count": 25,
   "metadata": {},
   "outputs": [
    {
     "data": {
      "image/png": "[encoded data removed]",
      "text/plain": [
       "<Figure size 432x288 with 1 Axes>"
      ]
     },
     "metadata": {
      "needs_background": "light"
     },
     "output_type": "display_data"
    }
   ],
   "source": [
    "y_test_loss = history.history['val_loss']\n",
    "y_train_loss = history.history['loss']\n",
    "\n",
    "x_len = np.arange(len(y_test_loss))\n",
    "\n",
    "plt.plot (x_len, y_test_loss, marker=',', c='red', label='Testset_loss')\n",
    "plt.plot(x_len, y_train_loss, marker=',', c='blue', label='Trainset_loss')\n",
    "\n",
    "plt.legend(loc='upper right')\n",
    "plt.grid()\n",
    "plt.xlabel('epoch')\n",
    "plt.ylabel('loss')\n",
    "plt.show()"
   ]
  },
  {
   "cell_type": "code",
   "execution_count": 26,
   "metadata": {},
   "outputs": [
    {
     "name": "stdout",
     "output_type": "stream",
     "text": [
      "6250/6250 [==============================] - 20s 3ms/step - loss: 0.2083 - acc: 0.9417\n",
      "\n",
      " 테스트 정확도: 0.9417\n"
     ]
    }
   ],
   "source": [
    "loaded_model = load_model('./best_model.h5')\n",
    "print(\"\\n 테스트 정확도: %.4f\" % (loaded_model.evaluate(X_test, y_test_2)[1]))"
   ]
  },
  {
   "cell_type": "markdown",
   "metadata": {},
   "source": [
    "### 중분류 예측기"
   ]
  },
  {
   "cell_type": "code",
   "execution_count": 16,
   "metadata": {},
   "outputs": [],
   "source": [
    "mecab = Mecab()\n",
    "loaded_model = load_model('./data/model/digit2_ed200_hu128_ep10_bs128_sftmx_cc.h5')\n",
    "max_len = 15\n",
    "stopwords = pd.read_csv('./data/stopwords/stopwords_concat.csv')\n",
    "\n",
    "\n",
    "def sentiment_predict(new_sentence):\n",
    "  new_sentence = re.sub(r'[^ㄱ-ㅎㅏ-ㅣ가-힣 ]','', new_sentence)\n",
    "  print(new_sentence)\n",
    "  new_sentence = mecab.morphs(new_sentence) # 토큰화\n",
    "  print(new_sentence)\n",
    "  new_sentence = [word for word in new_sentence if not word in stopwords] # 불용어 제거\n",
    "  print(new_sentence)\n",
    "  encoded = tokenizer.texts_to_sequences([\"{}\".format(new_sentence)]) # 정수 인코딩\n",
    "  print(encoded)\n",
    "  pad_new = pad_sequences(encoded, maxlen = max_len) # 패딩\n",
    "  print(pad_new)\n",
    "  label = loaded_model.predict(pad_new) # 예측\n",
    "  print(label)\n",
    "  print(le2.inverse_transform([label.argmax()])[0])\n",
    "  print(digit_2_dict[le2.inverse_transform([label.argmax()])[0]])"
   ]
  },
  {
   "cell_type": "code",
   "execution_count": 18,
   "metadata": {},
   "outputs": [
    {
     "name": "stdout",
     "output_type": "stream",
     "text": [
      "영어학원일반학생대상영어교육\n",
      "['영어', '학원', '일반', '학생', '대상', '영어', '교육']\n",
      "['영어', '학원', '일반', '학생', '대상', '영어', '교육']\n",
      "[[106, 30, 10, 38, 1, 106, 28]]\n",
      "[[  0   0   0   0   0   0   0   0 106  30  10  38   1 106  28]]\n",
      "[[3.3901244e-09 2.0897637e-08 3.8126666e-09 3.0675029e-10 2.2629222e-10\n",
      "  7.9605428e-08 3.2770386e-10 8.7994927e-08 7.0510360e-08 2.0747966e-10\n",
      "  2.8677161e-07 4.2352216e-08 2.1015593e-08 6.9544690e-08 1.5907085e-09\n",
      "  7.6828748e-08 1.1855049e-10 3.5715878e-08 2.3497962e-07 2.0660003e-08\n",
      "  3.3980680e-07 8.5391652e-11 4.7124776e-10 4.9496984e-09 2.7503464e-07\n",
      "  1.2095218e-09 3.9833288e-09 6.8410988e-09 2.5822013e-09 3.7302346e-08\n",
      "  2.2491537e-07 3.1255757e-07 4.7099481e-12 5.2456600e-10 2.8596964e-10\n",
      "  2.7771394e-08 7.6750064e-09 1.4437527e-06 1.7732052e-07 8.7860883e-09\n",
      "  2.1529750e-06 2.5718451e-05 3.7065444e-09 8.7804473e-08 8.3038493e-10\n",
      "  5.5193863e-09 1.8413728e-07 5.3079219e-07 3.3821743e-07 6.4629234e-07\n",
      "  3.9017416e-09 2.1560042e-07 1.5189957e-07 2.1014881e-07 1.7168924e-08\n",
      "  9.9406627e-10 1.2042550e-09 2.0148060e-07 7.4903039e-07 2.8469060e-07\n",
      "  2.7044985e-07 1.1377908e-06 9.7706099e-08 9.9672013e-07 1.5887036e-06\n",
      "  1.8836000e-07 9.9992013e-01 2.6954335e-06 1.3587302e-05 3.0651347e-06\n",
      "  6.3035873e-06 8.3682844e-06 1.1801167e-06 4.9148039e-06 1.1289615e-11\n",
      "  1.9101776e-11 1.7773800e-11]]\n",
      "85\n",
      "교육 서비스업\n"
     ]
    }
   ],
   "source": [
    "sentiment_predict('영어학원|일반학생대상|영어교육')"
   ]
  },
  {
   "cell_type": "code",
   "execution_count": 54,
   "metadata": {},
   "outputs": [
    {
     "name": "stdout",
     "output_type": "stream",
     "text": [
      "6250/6250 [==============================] - 51s 8ms/step - loss: 13.4765 - acc: 0.0036\n",
      "\n",
      " 테스트 정확도: 0.0036\n"
     ]
    }
   ],
   "source": [
    "loaded_model = load_model('./best_model2.h5')\n",
    "print(\"\\n 테스트 정확도: %.4f\" % (loaded_model.evaluate(X_test, y_test_3)[1]))"
   ]
  },
  {
   "cell_type": "markdown",
   "metadata": {},
   "source": [
    "## 소분류"
   ]
  },
  {
   "cell_type": "code",
   "execution_count": 39,
   "metadata": {},
   "outputs": [],
   "source": [
    "# 레이블 인코딩\n",
    "\n",
    "digit_3_list = list(digit_3_dict.keys())\n",
    "\n",
    "le3 = preprocessing.LabelEncoder()\n",
    "\n",
    "le3.fit(digit_3_list)\n",
    "y_train_3 = le3.transform(y_train_3)\n",
    "y_test_3 = le3.transform(y_test_3)\n",
    "\n",
    "y_train_3 = np_utils.to_categorical(y_train_3, num_classes=len(digit_3_list))\n",
    "y_test_3 = np_utils.to_categorical(y_test_3, num_classes=len(digit_3_list))"
   ]
  },
  {
   "cell_type": "code",
   "execution_count": 42,
   "metadata": {},
   "outputs": [
    {
     "name": "stdout",
     "output_type": "stream",
     "text": [
      "Epoch 1/10\n",
      "6400/6400 [==============================] - 351s 55ms/step - loss: 0.6143 - acc: 0.8567 - val_loss: 0.3590 - val_acc: 0.9060\n",
      "\n",
      "Epoch 00001: val_acc improved from -inf to 0.90602, saving model to best_model.h5\n",
      "Epoch 2/10\n",
      "6400/6400 [==============================] - 387s 60ms/step - loss: 0.2998 - acc: 0.9197 - val_loss: 0.3362 - val_acc: 0.9111\n",
      "\n",
      "Epoch 00002: val_acc improved from 0.90602 to 0.91115, saving model to best_model.h5\n",
      "Epoch 3/10\n",
      "6400/6400 [==============================] - 380s 59ms/step - loss: 0.2502 - acc: 0.9308 - val_loss: 0.3336 - val_acc: 0.9119\n",
      "\n",
      "Epoch 00003: val_acc improved from 0.91115 to 0.91189, saving model to best_model.h5\n",
      "Epoch 4/10\n",
      "6400/6400 [==============================] - 342s 53ms/step - loss: 0.2192 - acc: 0.9385 - val_loss: 0.3351 - val_acc: 0.9132\n",
      "\n",
      "Epoch 00004: val_acc improved from 0.91189 to 0.91319, saving model to best_model.h5\n",
      "Epoch 5/10\n",
      "6400/6400 [==============================] - 350s 55ms/step - loss: 0.1957 - acc: 0.9444 - val_loss: 0.3450 - val_acc: 0.9119\n",
      "\n",
      "Epoch 00005: val_acc did not improve from 0.91319\n",
      "Epoch 00005: early stopping\n"
     ]
    }
   ],
   "source": [
    "from tensorflow.keras.layers import Embedding, Dense, LSTM\n",
    "from tensorflow.keras.models import Sequential\n",
    "from tensorflow.keras.callbacks import EarlyStopping, ModelCheckpoint\n",
    "from tensorflow.keras.optimizers import Adam\n",
    "\n",
    "vocab_size = 34265\n",
    "embedding_dim = 200\n",
    "hidden_units = 128\n",
    "\n",
    "model = Sequential()\n",
    "model.add(Embedding(vocab_size, embedding_dim))\n",
    "model.add(LSTM(hidden_units))\n",
    "model.add(Dense(232, activation='softmax'))\n",
    "\n",
    "es = EarlyStopping(monitor='val_loss', mode='min', verbose=1, patience=2)\n",
    "mc = ModelCheckpoint('best_model.h5', monitor='val_acc', mode='max', verbose=1, save_best_only=True)\n",
    "\n",
    "model.compile(optimizer='adam', loss='categorical_crossentropy', metrics=['acc'])\n",
    "history = model.fit(X_train, y_train_3, epochs=10, callbacks=[es, mc], batch_size=100, validation_split=0.2)"
   ]
  },
  {
   "cell_type": "code",
   "execution_count": 43,
   "metadata": {},
   "outputs": [
    {
     "name": "stdout",
     "output_type": "stream",
     "text": [
      "6250/6250 [==============================] - 23s 4ms/step - loss: 0.3311 - acc: 0.9143: 0s - loss: 0.33\n",
      "\n",
      " 테스트 정확도: 0.9143\n"
     ]
    }
   ],
   "source": [
    "loaded_model = load_model('./data/model/digit3_ed200_hu128_ep10_bs128_sftmx_cc.h5')\n",
    "print(\"\\n 테스트 정확도: %.4f\" % (loaded_model.evaluate(X_test, y_test_3)[1]))"
   ]
  },
  {
   "cell_type": "markdown",
   "metadata": {},
   "source": [
    "### 소분류 예측기"
   ]
  },
  {
   "cell_type": "code",
   "execution_count": 46,
   "metadata": {},
   "outputs": [],
   "source": [
    "mecab = Mecab()\n",
    "loaded_model = load_model('./data/model/digit3_ed200_hu128_ep10_bs128_sftmx_cc.h5')\n",
    "max_len = 15\n",
    "stopwords = pd.read_csv('./data/stopwords/stopwords_concat.csv')\n",
    "\n",
    "\n",
    "def sentiment_predict2(new_sentence):\n",
    "  new_sentence = re.sub(r'[^ㄱ-ㅎㅏ-ㅣ가-힣 ]','', new_sentence)\n",
    "  print(new_sentence)\n",
    "  new_sentence = mecab.morphs(new_sentence) # 토큰화\n",
    "  print(new_sentence)\n",
    "  new_sentence = [word for word in new_sentence if not word in stopwords] # 불용어 제거\n",
    "  print(new_sentence)\n",
    "  encoded = tokenizer.texts_to_sequences([\"{}\".format(new_sentence)]) # 정수 인코딩\n",
    "  print(encoded)\n",
    "  pad_new = pad_sequences(encoded, maxlen = max_len) # 패딩\n",
    "  print(pad_new)\n",
    "  label = loaded_model.predict(pad_new) # 예측\n",
    "  print(label)\n",
    "  print(le3.inverse_transform([label.argmax()])[0])\n",
    "  print(digit_3_dict[le3.inverse_transform([label.argmax()])[0]])"
   ]
  },
  {
   "cell_type": "code",
   "execution_count": 48,
   "metadata": {},
   "outputs": [
    {
     "name": "stdout",
     "output_type": "stream",
     "text": [
      "정비회사에서자동차의전반적인정비 종합수리서비스\n",
      "['정비', '회사', '에서', '자동차', '의', '전반', '적', '인', '정비', '종합', '수리', '서비스']\n",
      "['정비', '회사', '에서', '자동차', '의', '전반', '적', '인', '정비', '종합', '수리', '서비스']\n",
      "[[271, 291, 43, 2169, 175, 271, 228, 46, 2]]\n",
      "[[   0    0    0    0    0    0  271  291   43 2169  175  271  228   46\n",
      "     2]]\n",
      "[[2.25543495e-08 6.05824141e-07 1.46671744e-10 1.06609705e-05\n",
      "  7.70816674e-11 1.70350845e-08 1.28942315e-10 1.73955748e-08\n",
      "  2.46597381e-10 1.65171571e-10 2.27767916e-10 3.23220062e-10\n",
      "  1.34238731e-10 1.91093894e-11 5.29234256e-09 2.25108465e-09\n",
      "  1.76460874e-10 2.92087021e-09 1.63499308e-07 2.07227679e-10\n",
      "  4.81583350e-11 1.70529315e-08 4.16814459e-08 2.74717887e-11\n",
      "  7.91270249e-09 1.07565179e-09 1.90920557e-10 1.01880504e-09\n",
      "  1.30524966e-10 1.16911991e-09 2.71794809e-09 1.13763790e-11\n",
      "  4.21847973e-10 1.15860023e-12 2.39433307e-10 3.19270010e-09\n",
      "  1.26816024e-09 6.26243875e-08 7.20114857e-09 2.93753466e-10\n",
      "  6.30222132e-08 5.38868399e-08 8.70925376e-09 3.78718461e-08\n",
      "  1.62408498e-09 8.93497365e-09 2.00720418e-08 5.21093557e-10\n",
      "  5.81940398e-08 9.94232405e-11 1.21807426e-08 6.75403600e-09\n",
      "  9.36299815e-10 8.86387284e-08 3.03010984e-11 2.43996752e-08\n",
      "  1.44285423e-07 4.39454118e-09 3.63428421e-09 1.82373061e-10\n",
      "  1.48256527e-08 9.70457670e-09 1.29363436e-08 2.05949169e-09\n",
      "  1.07549427e-08 2.25847618e-10 2.17355620e-07 1.14018563e-08\n",
      "  2.04364081e-08 1.23159072e-09 6.64715283e-10 8.40685317e-08\n",
      "  2.47907583e-09 1.39627798e-09 3.37591558e-07 4.40306778e-08\n",
      "  3.29800143e-09 4.87539520e-09 1.02367359e-07 1.45151169e-09\n",
      "  7.41960826e-10 1.97739464e-11 1.34646072e-08 2.65417306e-08\n",
      "  1.79632469e-08 1.08604709e-07 3.29283210e-07 5.82979141e-08\n",
      "  1.39060990e-06 1.35980520e-06 8.80266455e-08 7.06179870e-09\n",
      "  2.94563534e-07 3.11874864e-08 1.94100780e-09 6.23210705e-10\n",
      "  9.77347838e-08 8.41772263e-10 5.14611509e-09 2.35932486e-04\n",
      "  8.89598378e-12 1.48987811e-09 1.29962305e-10 5.57715474e-09\n",
      "  5.19301189e-08 4.76754167e-07 2.11686128e-07 9.56613803e-07\n",
      "  7.57039686e-07 1.41709279e-05 2.14863417e-06 2.30283194e-06\n",
      "  7.11678524e-07 4.50450784e-07 1.52889716e-05 5.90622076e-05\n",
      "  1.12956250e-05 1.91373488e-07 2.55096893e-05 2.33708178e-07\n",
      "  4.77080789e-07 1.70547281e-07 1.52948108e-08 3.55487515e-08\n",
      "  3.53651401e-08 1.15726211e-08 1.06032201e-06 1.34786816e-07\n",
      "  7.15281701e-08 3.76693379e-08 1.22285748e-09 8.87496132e-10\n",
      "  1.82676061e-07 4.20082955e-07 4.31623306e-08 7.45912303e-07\n",
      "  1.19887877e-08 6.06807093e-09 4.66863270e-07 7.08789366e-06\n",
      "  1.18879334e-05 6.33032127e-10 5.53302561e-05 8.42190744e-08\n",
      "  3.72041009e-10 6.83992667e-08 3.46391698e-06 5.44585164e-05\n",
      "  1.01840196e-05 2.11162501e-07 1.20238708e-08 4.41481340e-09\n",
      "  1.17110843e-09 9.40598779e-11 1.47458559e-10 1.05052737e-10\n",
      "  3.05413650e-08 5.06388230e-11 5.30116466e-08 7.60851204e-09\n",
      "  3.35160905e-07 4.42285408e-09 5.37935652e-09 1.36493782e-07\n",
      "  2.18376613e-07 3.43132598e-07 3.73320199e-06 1.59943383e-07\n",
      "  3.36823591e-09 2.51984920e-06 2.19312496e-05 1.48741506e-07\n",
      "  6.62514276e-06 3.59506942e-07 3.32033245e-09 7.53844205e-08\n",
      "  2.60341149e-09 1.17599697e-09 2.16033216e-11 1.59192908e-08\n",
      "  3.05648520e-08 8.88173929e-07 1.86690002e-07 1.11371214e-07\n",
      "  3.85266894e-08 6.40045386e-08 8.06049485e-08 4.86850076e-05\n",
      "  8.87730675e-06 3.24440883e-08 1.58491252e-06 5.31772514e-07\n",
      "  1.57377747e-06 7.80436130e-06 7.84889489e-05 5.58207125e-09\n",
      "  3.94108461e-08 1.36232126e-09 7.10169534e-10 1.92166667e-07\n",
      "  1.99142369e-09 8.00856299e-07 7.65058630e-08 1.23589683e-13\n",
      "  4.61996302e-10 3.12353615e-11 7.34024841e-10 1.68174405e-10\n",
      "  6.06783175e-08 1.36098366e-09 1.25428317e-08 1.39640912e-08\n",
      "  2.38951259e-07 2.30874386e-09 2.20516370e-08 2.44273810e-08\n",
      "  8.30725888e-09 1.95809502e-08 9.18612841e-07 1.19948379e-06\n",
      "  1.35423846e-07 9.84161017e-11 5.23206211e-07 5.97140615e-06\n",
      "  9.99229789e-01 3.86275533e-05 7.81020475e-08 2.25563304e-06\n",
      "  1.36316541e-10 1.16865323e-10 1.87009047e-10 9.78075468e-11]]\n",
      "952\n",
      "자동차 및 모터사이클 수리업\n"
     ]
    }
   ],
   "source": [
    "sentiment_predict2('정비회사에서|자동차의전반적인|정비 종합수리서비스')"
   ]
  },
  {
   "cell_type": "markdown",
   "metadata": {},
   "source": [
    "## 최종 예측 모델 결합, 답안 제출"
   ]
  },
  {
   "cell_type": "code",
   "execution_count": 78,
   "metadata": {},
   "outputs": [],
   "source": [
    "# 대분류/중분류/소분류 예측 모델 불러오기, 불러온 모델로 test data 예측\n",
    "\n",
    "test_data = np.array(pd.read_csv('./data/mecab/test_data.csv'))\n",
    "\n",
    "loaded_model_1 = load_model('./data/model/digit1_ed200_hu128_ep10_bs128_sftmx_cc.h5')\n",
    "y_test_1_predicted = loaded_model_1.predict(test_data)\n",
    "\n",
    "loaded_model_2 = load_model('./data/model/digit2_ed200_hu128_ep10_bs128_sftmx_cc.h5')\n",
    "y_test_2_predicted = loaded_model_2.predict(test_data)\n",
    "\n",
    "loaded_model_3 = load_model('./data/model/digit3_ed200_hu128_ep10_bs128_sftmx_cc.h5')\n",
    "y_test_3_predicted = loaded_model_3.predict(test_data)"
   ]
  },
  {
   "cell_type": "code",
   "execution_count": 108,
   "metadata": {},
   "outputs": [
    {
     "name": "stderr",
     "output_type": "stream",
     "text": [
      "100%|██████████| 100000/100000 [00:11<00:00, 8534.98it/s]\n"
     ]
    }
   ],
   "source": [
    "# 인코딩된 예측값 원래 형태로 원상 복구\n",
    "\n",
    "temp_list_1 = []\n",
    "temp_list_2 = []\n",
    "temp_list_3 = []\n",
    "\n",
    "for i in tqdm(range(0, len(y_test_1_predicted))):\n",
    "    temp_list_1.append(le1.inverse_transform([y_test_1_predicted[i].argmax()])[0])\n",
    "    temp_list_2.append(le2.inverse_transform([y_test_2_predicted[i].argmax()])[0])\n",
    "    temp_list_3.append(le3.inverse_transform([y_test_3_predicted[i].argmax()])[0])"
   ]
  },
  {
   "cell_type": "code",
   "execution_count": 117,
   "metadata": {},
   "outputs": [],
   "source": [
    "# 답안 작성용 파일에 대분류/중분류/소분류 예측 컬럼 삽입 후 csv 파일로 저장\n",
    "\n",
    "test_data = pd.read_csv('./data/test.csv')\n",
    "\n",
    "test_data['digit_1'] = temp_list_1\n",
    "test_data['digit_2'] = temp_list_2\n",
    "test_data['digit_3'] = temp_list_3\n",
    "\n",
    "test_data.to_csv('./data/output/답안 작성용 파일.csv', encoding='CP949', index=False)"
   ]
  },
  {
   "cell_type": "code",
   "execution_count": 124,
   "metadata": {},
   "outputs": [],
   "source": [
    "# 결과값 검정 용이를 위해 산업분류 사전과 매핑한 csv 저장\n",
    "\n",
    "translated_data = test_data.copy()\n",
    "translated_data['digit_1'] = translated_data['digit_1'].replace(digit_1_dict)\n",
    "translated_data['digit_2'] = translated_data['digit_2'].replace(digit_2_dict)\n",
    "translated_data['digit_3'] = translated_data['digit_3'].replace(digit_3_dict)\n",
    "\n",
    "translated_data.to_csv('./data/output/final_translated.csv', encoding='CP949', index=False)"
   ]
  }
 ],
 "metadata": {
  "interpreter": {
   "hash": "099c82bb4ace82ade8ea00d06692c6005c84f3239a96c9207fc6992d929102eb"
  },
  "kernelspec": {
   "display_name": "Python 3.8.8 ('base')",
   "language": "python",
   "name": "python3"
  },
  "language_info": {
   "codemirror_mode": {
    "name": "ipython",
    "version": 3
   },
   "file_extension": ".py",
   "mimetype": "text/x-python",
   "name": "python",
   "nbconvert_exporter": "python",
   "pygments_lexer": "ipython3",
   "version": "3.8.8"
  },
  "orig_nbformat": 4
 },
 "nbformat": 4,
 "nbformat_minor": 2
}
