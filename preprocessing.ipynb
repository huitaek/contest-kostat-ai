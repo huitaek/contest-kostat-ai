{
 "cells": [
  {
   "cell_type": "markdown",
   "metadata": {},
   "source": [
    "# <b>데이터 전처리</b> Preprocessing"
   ]
  },
  {
   "cell_type": "markdown",
   "metadata": {},
   "source": [
    "##### 라이브러리"
   ]
  },
  {
   "cell_type": "code",
   "execution_count": 1,
   "metadata": {},
   "outputs": [],
   "source": [
    "import pandas as pd\n",
    "import numpy as np\n",
    "\n",
    "import seaborn as sns\n",
    "import numpy as np\n",
    "import matplotlib.pyplot as plt\n",
    "import matplotlib.patches as mpatches"
   ]
  },
  {
   "cell_type": "markdown",
   "metadata": {},
   "source": [
    "## <b>1.0 데이터 불러오기</b>"
   ]
  },
  {
   "cell_type": "code",
   "execution_count": 76,
   "metadata": {},
   "outputs": [],
   "source": [
    "# 실습용자료 불러와 csv로 저장, DataFrame으로 불러오기\n",
    "\n",
    "# train = pd.read_table(\"./data/1. 실습용자료.txt\", encoding='CP949', sep='|')\n",
    "# train.to_csv('./data/train.csv', index=False)\n",
    "\n",
    "\n",
    "#  불러와 csv로 저장, DataFrame으로 불러오기\n",
    "\n",
    "# test = pd.read_table(\"./data/2. 모델개발용자료.txt\", encoding='CP949', sep='|')\n",
    "# test.to_csv('./data/test.csv', index=False)\n"
   ]
  },
  {
   "cell_type": "code",
   "execution_count": 3,
   "metadata": {},
   "outputs": [],
   "source": [
    "# 데이터 불러오기\n",
    "\n",
    "train = pd.read_csv('./data/train.csv')\n",
    "test = pd.read_csv('./data/test.csv')"
   ]
  },
  {
   "cell_type": "markdown",
   "metadata": {},
   "source": [
    "## <b>2.0 데이터 탐색</b>"
   ]
  },
  {
   "cell_type": "code",
   "execution_count": 4,
   "metadata": {},
   "outputs": [
    {
     "name": "stdout",
     "output_type": "stream",
     "text": [
      "        AI_id digit_1  digit_2  digit_3    text_obj    text_mthd text_deal\n",
      "0  id_0000001       S       95      952       카센터에서      자동차부분정비   타이어오일교환\n",
      "1  id_0000002       G       47      472       상점내에서    일반인을 대상으로   채소.과일판매\n",
      "2  id_0000003       G       46      467  절단하여사업체에도매    공업용고무를가지고    합성고무도매\n",
      "3  id_0000004       G       47      475       영업점에서      일반소비자에게    열쇠잠금장치\n",
      "4  id_0000005       Q       87      872        어린이집  보호자의 위탁을 받아   취학전아동보육 \n",
      "\n",
      "       AI_id  digit_1  digit_2  digit_3  text_obj  text_mthd text_deal\n",
      "0  id_000001      NaN      NaN      NaN   치킨전문점에서   고객의주문에의해      치킨판매\n",
      "1  id_000002      NaN      NaN      NaN      산업공구  다른 소매업자에게    철물 수공구\n",
      "2  id_000003      NaN      NaN      NaN       절에서   신도을 대상으로    불교단체운영\n",
      "3  id_000004      NaN      NaN      NaN     영업장에서      고객요구로     자동차튜닝\n",
      "4  id_000005      NaN      NaN      NaN  실내포장마차에서  접객시설을 갖추고   소주,맥주제공\n"
     ]
    }
   ],
   "source": [
    "print(train.head(), '\\n')\n",
    "\n",
    "print(test.head())\n",
    "\n",
    "# 일련번호(AI_id), 산업대분류(digit_1), 산업중분류(digit_2), 산업소분류(digit_3), 사업 대상(text_obj), 사업 방법(text_mthd), 사업 취급품목(text_deal)\n"
   ]
  },
  {
   "cell_type": "code",
   "execution_count": 5,
   "metadata": {},
   "outputs": [
    {
     "name": "stdout",
     "output_type": "stream",
     "text": [
      "<class 'pandas.core.frame.DataFrame'>\n",
      "RangeIndex: 1000000 entries, 0 to 999999\n",
      "Data columns (total 7 columns):\n",
      " #   Column     Non-Null Count    Dtype \n",
      "---  ------     --------------    ----- \n",
      " 0   AI_id      1000000 non-null  object\n",
      " 1   digit_1    1000000 non-null  object\n",
      " 2   digit_2    1000000 non-null  int64 \n",
      " 3   digit_3    1000000 non-null  int64 \n",
      " 4   text_obj   983323 non-null   object\n",
      " 5   text_mthd  956381 non-null   object\n",
      " 6   text_deal  932348 non-null   object\n",
      "dtypes: int64(2), object(5)\n",
      "memory usage: 53.4+ MB\n"
     ]
    }
   ],
   "source": [
    "train.info()"
   ]
  },
  {
   "cell_type": "code",
   "execution_count": 6,
   "metadata": {},
   "outputs": [
    {
     "name": "stdout",
     "output_type": "stream",
     "text": [
      "<class 'pandas.core.frame.DataFrame'>\n",
      "RangeIndex: 100000 entries, 0 to 99999\n",
      "Data columns (total 7 columns):\n",
      " #   Column     Non-Null Count   Dtype  \n",
      "---  ------     --------------   -----  \n",
      " 0   AI_id      100000 non-null  object \n",
      " 1   digit_1    0 non-null       float64\n",
      " 2   digit_2    0 non-null       float64\n",
      " 3   digit_3    0 non-null       float64\n",
      " 4   text_obj   98189 non-null   object \n",
      " 5   text_mthd  97032 non-null   object \n",
      " 6   text_deal  93839 non-null   object \n",
      "dtypes: float64(3), object(4)\n",
      "memory usage: 5.3+ MB\n"
     ]
    }
   ],
   "source": [
    "test.info()"
   ]
  },
  {
   "cell_type": "code",
   "execution_count": 76,
   "metadata": {},
   "outputs": [
    {
     "data": {
      "image/png": "[encoded data removed]",
      "text/plain": [
       "<Figure size 720x360 with 1 Axes>"
      ]
     },
     "metadata": {
      "needs_background": "light"
     },
     "output_type": "display_data"
    }
   ],
   "source": [
    "# 널값 비율\n",
    "\n",
    "# Data\n",
    "r1 , r2 = [0,1,2], [3,4,5] # for X row\n",
    "\n",
    "train_data = {'notnull': [train['text_obj'].count(), train['text_mthd'].count(), train['text_deal'].count()],\n",
    "            'isnull': [train['text_obj'].isnull().sum(), train['text_mthd'].isnull().sum(), train['text_deal'].isnull().sum()]}\n",
    "test_data = {'notnull': [test['text_obj'].count(), test['text_mthd'].count(), test['text_deal'].count()],\n",
    "            'isnull': [test['text_obj'].isnull().sum(), test['text_mthd'].isnull().sum(), test['text_deal'].isnull().sum()]}\n",
    "\n",
    "train_data = pd.DataFrame(train_data)\n",
    "test_data = pd.DataFrame(test_data)\n",
    " \n",
    "# From raw value to percentage\n",
    "train_totals = [i+j for i,j in zip(train_data['notnull'], train_data['isnull'])] # for train\n",
    "train_notnull = [i / j * 100 for i,j in zip(train_data['notnull'], train_totals)]\n",
    "train_isnull = [i / j * 100 for i,j in zip(train_data['isnull'], train_totals)]\n",
    "\n",
    "test_totals = [i+j for i,j in zip(test_data['notnull'], test_data['isnull'])] # for test\n",
    "test_notnull = [i / j * 100 for i,j in zip(test_data['notnull'], test_totals)]\n",
    "test_isnull = [i / j * 100 for i,j in zip(test_data['isnull'], test_totals)]\n",
    " \n",
    "# plot\n",
    "plt.figure(figsize=(10, 5))\n",
    "barWidth = 0.85\n",
    "\n",
    "# Create train bars\n",
    "plot1 = plt.bar(r1, train_notnull, color='#B4D4DF', edgecolor='white', width=barWidth)\n",
    "plt.bar(r1, train_isnull, bottom=train_notnull, color='#11117A', edgecolor='white', width=barWidth)\n",
    "\n",
    "# Create text bars\n",
    "plot2 = plt.bar(r2, test_notnull, color='#EDFCD8', edgecolor='white', width=barWidth)\n",
    "plt.bar(r2, test_isnull, bottom=test_notnull, color='#06481D', edgecolor='white', width=barWidth)\n",
    "\n",
    "# Custom x axis\n",
    "names = ('train_obj','train_mthd','train_deal','test_obj','test_mthd', 'test_deal')\n",
    "plt.xticks(r1+r2, names)\n",
    "\n",
    "for value in plot1:\n",
    "    height = value.get_height()\n",
    "    plt.text(value.get_x() + value.get_width()/2.,\n",
    "             0.95*height,'%d' % int(height), ha='center', va='bottom')\n",
    "\n",
    "for value in plot2:\n",
    "    height = value.get_height()\n",
    "    plt.text(value.get_x() + value.get_width()/2.,\n",
    "             0.95*height,'%d' % int(height), ha='center', va='bottom')\n",
    "\n",
    "# Hide spines and ticks\n",
    "ax = plt.gca()\n",
    "ax.axes.yaxis.set_visible(False)\n",
    "ax.spines['right'].set_visible(False)\n",
    "ax.spines['top'].set_visible(False)\n",
    "ax.spines['left'].set_visible(False)\n",
    "ax.spines['bottom'].set_visible(False)\n",
    "plt.tick_params(bottom=False)\n",
    "\n",
    "# Title\n",
    "plt.title(\"Null-value Ratio\")\n",
    "\n",
    "# Show graphic\n",
    "plt.show()"
   ]
  },
  {
   "cell_type": "markdown",
   "metadata": {},
   "source": [
    "## <b>3.0 데이터 정제</b>"
   ]
  },
  {
   "cell_type": "markdown",
   "metadata": {},
   "source": [
    "### 결측치 처리"
   ]
  },
  {
   "cell_type": "markdown",
   "metadata": {},
   "source": [
    "## <b>4.0 토큰화</b>"
   ]
  },
  {
   "cell_type": "markdown",
   "metadata": {},
   "source": [
    "## <b>5.0 인코딩</b>"
   ]
  },
  {
   "cell_type": "markdown",
   "metadata": {},
   "source": [
    "## <b>6.0 패딩</b>"
   ]
  }
 ],
 "metadata": {
  "interpreter": {
   "hash": "099c82bb4ace82ade8ea00d06692c6005c84f3239a96c9207fc6992d929102eb"
  },
  "kernelspec": {
   "display_name": "Python 3.8.8 ('base')",
   "language": "python",
   "name": "python3"
  },
  "language_info": {
   "codemirror_mode": {
    "name": "ipython",
    "version": 3
   },
   "file_extension": ".py",
   "mimetype": "text/x-python",
   "name": "python",
   "nbconvert_exporter": "python",
   "pygments_lexer": "ipython3",
   "version": "3.8.8"
  },
  "orig_nbformat": 4
 },
 "nbformat": 4,
 "nbformat_minor": 2
}
