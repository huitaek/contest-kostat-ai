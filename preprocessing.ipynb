{
 "cells": [
  {
   "cell_type": "markdown",
   "metadata": {},
   "source": [
    "# <b>데이터 전처리</b> Preprocessing"
   ]
  },
  {
   "cell_type": "markdown",
   "metadata": {},
   "source": [
    "##### 라이브러리"
   ]
  },
  {
   "cell_type": "code",
   "execution_count": 217,
   "metadata": {},
   "outputs": [],
   "source": [
    "import pandas as pd\n",
    "import numpy as np\n",
    "\n",
    "import seaborn as sns\n",
    "import numpy as np\n",
    "import matplotlib.pyplot as plt\n",
    "import matplotlib.patches as mpatches\n",
    "\n",
    "from eunjeon import Mecab\n",
    "from tqdm import tqdm # 진행상황 Progress Bar를 위한 tqdm library\n",
    "from tensorflow.keras.preprocessing.text import Tokenizer"
   ]
  },
  {
   "cell_type": "markdown",
   "metadata": {},
   "source": [
    "## <b>1.0 데이터 불러오기</b>"
   ]
  },
  {
   "cell_type": "code",
   "execution_count": 245,
   "metadata": {},
   "outputs": [],
   "source": [
    "# 실습용자료 불러와 csv로 저장\n",
    "\n",
    "# train = pd.read_table(\"./data/1. 실습용자료.txt\", encoding='CP949', sep='|')\n",
    "# train.to_csv('./data/train.csv', index=False)\n",
    "\n",
    "\n",
    "#  불러와 csv로 저장\n",
    "\n",
    "# test = pd.read_table(\"./data/2. 모델개발용자료.txt\", encoding='CP949', sep='|')\n",
    "# test.to_csv('./data/test.csv', index=False)\n",
    "\n",
    "# 데이터 불러오기\n",
    "\n",
    "train = pd.read_csv('./data/train.csv')\n",
    "test = pd.read_csv('./data/test.csv')\n"
   ]
  },
  {
   "cell_type": "markdown",
   "metadata": {},
   "source": [
    "## <b>2.0 데이터 탐색</b>"
   ]
  },
  {
   "cell_type": "code",
   "execution_count": 246,
   "metadata": {},
   "outputs": [
    {
     "name": "stdout",
     "output_type": "stream",
     "text": [
      "        AI_id digit_1  digit_2  digit_3    text_obj    text_mthd text_deal\n",
      "0  id_0000001       S       95      952       카센터에서      자동차부분정비   타이어오일교환\n",
      "1  id_0000002       G       47      472       상점내에서    일반인을 대상으로   채소.과일판매\n",
      "2  id_0000003       G       46      467  절단하여사업체에도매    공업용고무를가지고    합성고무도매\n",
      "3  id_0000004       G       47      475       영업점에서      일반소비자에게    열쇠잠금장치\n",
      "4  id_0000005       Q       87      872        어린이집  보호자의 위탁을 받아   취학전아동보육 \n",
      "\n",
      "       AI_id  digit_1  digit_2  digit_3  text_obj  text_mthd text_deal\n",
      "0  id_000001      NaN      NaN      NaN   치킨전문점에서   고객의주문에의해      치킨판매\n",
      "1  id_000002      NaN      NaN      NaN      산업공구  다른 소매업자에게    철물 수공구\n",
      "2  id_000003      NaN      NaN      NaN       절에서   신도을 대상으로    불교단체운영\n",
      "3  id_000004      NaN      NaN      NaN     영업장에서      고객요구로     자동차튜닝\n",
      "4  id_000005      NaN      NaN      NaN  실내포장마차에서  접객시설을 갖추고   소주,맥주제공\n"
     ]
    }
   ],
   "source": [
    "print(train.head(), '\\n')\n",
    "\n",
    "print(test.head())\n",
    "\n",
    "# 일련번호(AI_id), 산업대분류(digit_1), 산업중분류(digit_2), 산업소분류(digit_3), 사업 대상(text_obj), 사업 방법(text_mthd), 사업 취급품목(text_deal)"
   ]
  },
  {
   "cell_type": "code",
   "execution_count": 135,
   "metadata": {},
   "outputs": [
    {
     "name": "stdout",
     "output_type": "stream",
     "text": [
      "<class 'pandas.core.frame.DataFrame'>\n",
      "RangeIndex: 1000000 entries, 0 to 999999\n",
      "Data columns (total 7 columns):\n",
      " #   Column     Non-Null Count    Dtype \n",
      "---  ------     --------------    ----- \n",
      " 0   AI_id      1000000 non-null  object\n",
      " 1   digit_1    1000000 non-null  object\n",
      " 2   digit_2    1000000 non-null  int64 \n",
      " 3   digit_3    1000000 non-null  int64 \n",
      " 4   text_obj   983323 non-null   object\n",
      " 5   text_mthd  956381 non-null   object\n",
      " 6   text_deal  932348 non-null   object\n",
      "dtypes: int64(2), object(5)\n",
      "memory usage: 53.4+ MB\n"
     ]
    }
   ],
   "source": [
    "train.info()"
   ]
  },
  {
   "cell_type": "code",
   "execution_count": 136,
   "metadata": {},
   "outputs": [
    {
     "name": "stdout",
     "output_type": "stream",
     "text": [
      "<class 'pandas.core.frame.DataFrame'>\n",
      "RangeIndex: 100000 entries, 0 to 99999\n",
      "Data columns (total 7 columns):\n",
      " #   Column     Non-Null Count   Dtype  \n",
      "---  ------     --------------   -----  \n",
      " 0   AI_id      100000 non-null  object \n",
      " 1   digit_1    0 non-null       float64\n",
      " 2   digit_2    0 non-null       float64\n",
      " 3   digit_3    0 non-null       float64\n",
      " 4   text_obj   98189 non-null   object \n",
      " 5   text_mthd  97032 non-null   object \n",
      " 6   text_deal  93839 non-null   object \n",
      "dtypes: float64(3), object(4)\n",
      "memory usage: 5.3+ MB\n"
     ]
    }
   ],
   "source": [
    "test.info()"
   ]
  },
  {
   "cell_type": "markdown",
   "metadata": {},
   "source": [
    "## <b>3.0 데이터 정제</b>"
   ]
  },
  {
   "cell_type": "code",
   "execution_count": 247,
   "metadata": {},
   "outputs": [
    {
     "name": "stderr",
     "output_type": "stream",
     "text": [
      "<ipython-input-247-7dd7fb717b2d>:1: FutureWarning: The default value of regex will change from True to False in a future version.\n",
      "  train['text_obj'] = train['text_obj'].str.replace('[^ㄱ-ㅎㅏ-ㅣ가-힣 ]','').str.replace('^ +', '') # [ㄱ - ㅎ, ㅏ - ㅣ, 가 - 핳] 제외 제거\n",
      "<ipython-input-247-7dd7fb717b2d>:2: FutureWarning: The default value of regex will change from True to False in a future version.\n",
      "  train['text_mthd'] = train['text_mthd'].str.replace('[^ㄱ-ㅎㅏ-ㅣ가-힣 ]','').str.replace('^ +', '') # [ㄱ - ㅎ, ㅏ - ㅣ, 가 - 핳] 제외 제거\n",
      "<ipython-input-247-7dd7fb717b2d>:3: FutureWarning: The default value of regex will change from True to False in a future version.\n",
      "  train['text_deal'] = train['text_deal'].str.replace('[^ㄱ-ㅎㅏ-ㅣ가-힣 ]','').str.replace('^ +', '') # [ㄱ - ㅎ, ㅏ - ㅣ, 가 - 핳] 제외 제거\n",
      "<ipython-input-247-7dd7fb717b2d>:5: FutureWarning: The default value of regex will change from True to False in a future version.\n",
      "  test['text_obj'] = test['text_obj'].str.replace('[^ㄱ-ㅎㅏ-ㅣ가-힣 ]','').str.replace('^ +', '')\n",
      "<ipython-input-247-7dd7fb717b2d>:6: FutureWarning: The default value of regex will change from True to False in a future version.\n",
      "  test['text_mthd'] = test['text_mthd'].str.replace('[^ㄱ-ㅎㅏ-ㅣ가-힣 ]','').str.replace('^ +', '')\n",
      "<ipython-input-247-7dd7fb717b2d>:7: FutureWarning: The default value of regex will change from True to False in a future version.\n",
      "  test['text_deal'] = test['text_deal'].str.replace('[^ㄱ-ㅎㅏ-ㅣ가-힣 ]','').str.replace('^ +', '')\n"
     ]
    }
   ],
   "source": [
    "train['text_obj'] = train['text_obj'].str.replace('[^ㄱ-ㅎㅏ-ㅣ가-힣 ]','').str.replace('^ +', '') # [ㄱ - ㅎ, ㅏ - ㅣ, 가 - 핳] 제외 제거\n",
    "train['text_mthd'] = train['text_mthd'].str.replace('[^ㄱ-ㅎㅏ-ㅣ가-힣 ]','').str.replace('^ +', '') # [ㄱ - ㅎ, ㅏ - ㅣ, 가 - 핳] 제외 제거\n",
    "train['text_deal'] = train['text_deal'].str.replace('[^ㄱ-ㅎㅏ-ㅣ가-힣 ]','').str.replace('^ +', '') # [ㄱ - ㅎ, ㅏ - ㅣ, 가 - 핳] 제외 제거\n",
    "\n",
    "test['text_obj'] = test['text_obj'].str.replace('[^ㄱ-ㅎㅏ-ㅣ가-힣 ]','').str.replace('^ +', '')\n",
    "test['text_mthd'] = test['text_mthd'].str.replace('[^ㄱ-ㅎㅏ-ㅣ가-힣 ]','').str.replace('^ +', '')\n",
    "test['text_deal'] = test['text_deal'].str.replace('[^ㄱ-ㅎㅏ-ㅣ가-힣 ]','').str.replace('^ +', '')"
   ]
  },
  {
   "cell_type": "markdown",
   "metadata": {},
   "source": [
    "### 결측치 처리"
   ]
  },
  {
   "cell_type": "code",
   "execution_count": 249,
   "metadata": {},
   "outputs": [
    {
     "data": {
      "image/png": "[encoded data removed]",
      "text/plain": [
       "<Figure size 720x360 with 1 Axes>"
      ]
     },
     "metadata": {
      "needs_background": "light"
     },
     "output_type": "display_data"
    }
   ],
   "source": [
    "# 널값 비율\n",
    "\n",
    "# Data\n",
    "r1 , r2 = [0,1,2], [3,4,5] # for X row\n",
    "\n",
    "train_data = {'notnull': [train['text_obj'].count(), train['text_mthd'].count(), train['text_deal'].count()],\n",
    "            'isnull': [train['text_obj'].isnull().sum(), train['text_mthd'].isnull().sum(), train['text_deal'].isnull().sum()]}\n",
    "test_data = {'notnull': [test['text_obj'].count(), test['text_mthd'].count(), test['text_deal'].count()],\n",
    "            'isnull': [test['text_obj'].isnull().sum(), test['text_mthd'].isnull().sum(), test['text_deal'].isnull().sum()]}\n",
    "\n",
    "train_data = pd.DataFrame(train_data)\n",
    "test_data = pd.DataFrame(test_data)\n",
    " \n",
    "# From raw value to percentage\n",
    "train_totals = [i+j for i,j in zip(train_data['notnull'], train_data['isnull'])] # for train\n",
    "train_notnull = [i / j * 100 for i,j in zip(train_data['notnull'], train_totals)]\n",
    "train_isnull = [i / j * 100 for i,j in zip(train_data['isnull'], train_totals)]\n",
    "\n",
    "test_totals = [i+j for i,j in zip(test_data['notnull'], test_data['isnull'])] # for test\n",
    "test_notnull = [i / j * 100 for i,j in zip(test_data['notnull'], test_totals)]\n",
    "test_isnull = [i / j * 100 for i,j in zip(test_data['isnull'], test_totals)]\n",
    " \n",
    "# plot\n",
    "plt.figure(figsize=(10, 5))\n",
    "barWidth = 0.85\n",
    "\n",
    "# Create train bars\n",
    "plot1 = plt.bar(r1, train_notnull, color='#B4D4DF', edgecolor='white', width=barWidth)\n",
    "plt.bar(r1, train_isnull, bottom=train_notnull, color='#11117A', edgecolor='white', width=barWidth)\n",
    "\n",
    "# Create text bars\n",
    "plot2 = plt.bar(r2, test_notnull, color='#EDFCD8', edgecolor='white', width=barWidth)\n",
    "plt.bar(r2, test_isnull, bottom=test_notnull, color='#06481D', edgecolor='white', width=barWidth)\n",
    "\n",
    "# Custom x axis\n",
    "names = ('train_obj','train_mthd','train_deal','test_obj','test_mthd', 'test_deal')\n",
    "plt.xticks(r1+r2, names)\n",
    "\n",
    "for value in plot1:\n",
    "    height = value.get_height()\n",
    "    plt.text(value.get_x() + value.get_width()/2.,\n",
    "             0.95*height,'%d' % int(height), ha='center', va='bottom')\n",
    "\n",
    "for value in plot2:\n",
    "    height = value.get_height()\n",
    "    plt.text(value.get_x() + value.get_width()/2.,\n",
    "             0.95*height,'%d' % int(height), ha='center', va='bottom')\n",
    "\n",
    "# Hide spines and ticks\n",
    "ax = plt.gca()\n",
    "ax.axes.yaxis.set_visible(False)\n",
    "ax.spines['right'].set_visible(False)\n",
    "ax.spines['top'].set_visible(False)\n",
    "ax.spines['left'].set_visible(False)\n",
    "ax.spines['bottom'].set_visible(False)\n",
    "plt.tick_params(bottom=False)\n",
    "\n",
    "# Title\n",
    "plt.title(\"Null-value Ratio\")\n",
    "\n",
    "# Show graphic\n",
    "plt.show()"
   ]
  },
  {
   "cell_type": "code",
   "execution_count": 170,
   "metadata": {},
   "outputs": [
    {
     "data": {
      "text/html": [
       "<div>\n",
       "<style scoped>\n",
       "    .dataframe tbody tr th:only-of-type {\n",
       "        vertical-align: middle;\n",
       "    }\n",
       "\n",
       "    .dataframe tbody tr th {\n",
       "        vertical-align: top;\n",
       "    }\n",
       "\n",
       "    .dataframe thead th {\n",
       "        text-align: right;\n",
       "    }\n",
       "</style>\n",
       "<table border=\"1\" class=\"dataframe\">\n",
       "  <thead>\n",
       "    <tr style=\"text-align: right;\">\n",
       "      <th></th>\n",
       "      <th>AI_id</th>\n",
       "      <th>digit_1</th>\n",
       "      <th>digit_2</th>\n",
       "      <th>digit_3</th>\n",
       "      <th>text_obj</th>\n",
       "      <th>text_mthd</th>\n",
       "      <th>text_deal</th>\n",
       "    </tr>\n",
       "  </thead>\n",
       "  <tbody>\n",
       "  </tbody>\n",
       "</table>\n",
       "</div>"
      ],
      "text/plain": [
       "Empty DataFrame\n",
       "Columns: [AI_id, digit_1, digit_2, digit_3, text_obj, text_mthd, text_deal]\n",
       "Index: []"
      ]
     },
     "execution_count": 170,
     "metadata": {},
     "output_type": "execute_result"
    }
   ],
   "source": [
    "# 결측값 탐색\n",
    "\n",
    "condition1 = train['text_obj'].isnull() == True\n",
    "condition2 = train['text_mthd'].isnull() == True\n",
    "condition3 = train['text_deal'].isnull() == True\n",
    "\n",
    "train[condition1&condition2&condition3] # 세 컬럼 모두 Null 값인 로우는 없음."
   ]
  },
  {
   "cell_type": "code",
   "execution_count": 250,
   "metadata": {},
   "outputs": [
    {
     "name": "stdout",
     "output_type": "stream",
     "text": [
      "Train 데이터 결측치 제거 전: 1000000\n",
      "Train 데이터 결측치 제거 후: 925009\n"
     ]
    }
   ],
   "source": [
    "print('Train 데이터 결측치 제거 전:', len(train))\n",
    "train.dropna(inplace=True)\n",
    "print('Train 데이터 결측치 제거 후:', len(train))"
   ]
  },
  {
   "cell_type": "code",
   "execution_count": 251,
   "metadata": {},
   "outputs": [
    {
     "name": "stdout",
     "output_type": "stream",
     "text": [
      "Test 데이터 결측치 제거 전: 100000\n",
      "Test 데이터 결측치 제거 후: 92985\n"
     ]
    }
   ],
   "source": [
    "print('Test 데이터 결측치 제거 전:', len(test))\n",
    "test.drop(columns=['digit_1', 'digit_2', 'digit_3'], inplace=True)\n",
    "test.dropna(inplace=True)\n",
    "print('Test 데이터 결측치 제거 후:', len(test))"
   ]
  },
  {
   "cell_type": "markdown",
   "metadata": {},
   "source": [
    "##### 결측값 대치 보류 - 나중에 대치할 때 쓰려고 남겨둠"
   ]
  },
  {
   "cell_type": "code",
   "execution_count": 140,
   "metadata": {},
   "outputs": [
    {
     "data": {
      "text/html": [
       "<div>\n",
       "<style scoped>\n",
       "    .dataframe tbody tr th:only-of-type {\n",
       "        vertical-align: middle;\n",
       "    }\n",
       "\n",
       "    .dataframe tbody tr th {\n",
       "        vertical-align: top;\n",
       "    }\n",
       "\n",
       "    .dataframe thead th {\n",
       "        text-align: right;\n",
       "    }\n",
       "</style>\n",
       "<table border=\"1\" class=\"dataframe\">\n",
       "  <thead>\n",
       "    <tr style=\"text-align: right;\">\n",
       "      <th></th>\n",
       "      <th>AI_id</th>\n",
       "      <th>digit_1</th>\n",
       "      <th>digit_2</th>\n",
       "      <th>digit_3</th>\n",
       "      <th>text_obj</th>\n",
       "      <th>text_mthd</th>\n",
       "      <th>text_deal</th>\n",
       "    </tr>\n",
       "  </thead>\n",
       "  <tbody>\n",
       "    <tr>\n",
       "      <th>10</th>\n",
       "      <td>id_0000011</td>\n",
       "      <td>C</td>\n",
       "      <td>10</td>\n",
       "      <td>102</td>\n",
       "      <td>멸치</td>\n",
       "      <td>입고, 가공</td>\n",
       "      <td>NaN</td>\n",
       "    </tr>\n",
       "    <tr>\n",
       "      <th>29</th>\n",
       "      <td>id_0000030</td>\n",
       "      <td>C</td>\n",
       "      <td>29</td>\n",
       "      <td>292</td>\n",
       "      <td>Resim</td>\n",
       "      <td>재료구입, 세미앗세이</td>\n",
       "      <td>NaN</td>\n",
       "    </tr>\n",
       "    <tr>\n",
       "      <th>115</th>\n",
       "      <td>id_0000116</td>\n",
       "      <td>G</td>\n",
       "      <td>47</td>\n",
       "      <td>478</td>\n",
       "      <td>향초 &amp; 디퓨저</td>\n",
       "      <td>소매</td>\n",
       "      <td>NaN</td>\n",
       "    </tr>\n",
       "    <tr>\n",
       "      <th>194</th>\n",
       "      <td>id_0000195</td>\n",
       "      <td>C</td>\n",
       "      <td>26</td>\n",
       "      <td>262</td>\n",
       "      <td>코아, 보빈</td>\n",
       "      <td>검선, 니드보강</td>\n",
       "      <td>NaN</td>\n",
       "    </tr>\n",
       "    <tr>\n",
       "      <th>234</th>\n",
       "      <td>id_0000235</td>\n",
       "      <td>C</td>\n",
       "      <td>32</td>\n",
       "      <td>320</td>\n",
       "      <td>목재, 페인트</td>\n",
       "      <td>설계, 절단</td>\n",
       "      <td>NaN</td>\n",
       "    </tr>\n",
       "    <tr>\n",
       "      <th>...</th>\n",
       "      <td>...</td>\n",
       "      <td>...</td>\n",
       "      <td>...</td>\n",
       "      <td>...</td>\n",
       "      <td>...</td>\n",
       "      <td>...</td>\n",
       "      <td>...</td>\n",
       "    </tr>\n",
       "    <tr>\n",
       "      <th>999843</th>\n",
       "      <td>id_0999844</td>\n",
       "      <td>C</td>\n",
       "      <td>24</td>\n",
       "      <td>241</td>\n",
       "      <td>와이어롯드(절선)</td>\n",
       "      <td>산세수세, 피막</td>\n",
       "      <td>NaN</td>\n",
       "    </tr>\n",
       "    <tr>\n",
       "      <th>999846</th>\n",
       "      <td>id_0999847</td>\n",
       "      <td>C</td>\n",
       "      <td>13</td>\n",
       "      <td>139</td>\n",
       "      <td>PE섬유</td>\n",
       "      <td>입고, 재단</td>\n",
       "      <td>NaN</td>\n",
       "    </tr>\n",
       "    <tr>\n",
       "      <th>999878</th>\n",
       "      <td>id_0999879</td>\n",
       "      <td>C</td>\n",
       "      <td>16</td>\n",
       "      <td>161</td>\n",
       "      <td>목재, 페인트</td>\n",
       "      <td>도장, 방부처리</td>\n",
       "      <td>NaN</td>\n",
       "    </tr>\n",
       "    <tr>\n",
       "      <th>999899</th>\n",
       "      <td>id_0999900</td>\n",
       "      <td>C</td>\n",
       "      <td>32</td>\n",
       "      <td>320</td>\n",
       "      <td>합판</td>\n",
       "      <td>합판, 재단</td>\n",
       "      <td>NaN</td>\n",
       "    </tr>\n",
       "    <tr>\n",
       "      <th>999932</th>\n",
       "      <td>id_0999933</td>\n",
       "      <td>C</td>\n",
       "      <td>18</td>\n",
       "      <td>181</td>\n",
       "      <td>PET, PVC</td>\n",
       "      <td>디자인, 컴퓨터처리</td>\n",
       "      <td>NaN</td>\n",
       "    </tr>\n",
       "  </tbody>\n",
       "</table>\n",
       "<p>16009 rows × 7 columns</p>\n",
       "</div>"
      ],
      "text/plain": [
       "             AI_id digit_1  digit_2  digit_3   text_obj    text_mthd text_deal\n",
       "10      id_0000011       C       10      102         멸치       입고, 가공       NaN\n",
       "29      id_0000030       C       29      292      Resim  재료구입, 세미앗세이       NaN\n",
       "115     id_0000116       G       47      478   향초 & 디퓨저           소매       NaN\n",
       "194     id_0000195       C       26      262     코아, 보빈     검선, 니드보강       NaN\n",
       "234     id_0000235       C       32      320    목재, 페인트       설계, 절단       NaN\n",
       "...            ...     ...      ...      ...        ...          ...       ...\n",
       "999843  id_0999844       C       24      241  와이어롯드(절선)     산세수세, 피막       NaN\n",
       "999846  id_0999847       C       13      139       PE섬유       입고, 재단       NaN\n",
       "999878  id_0999879       C       16      161    목재, 페인트     도장, 방부처리       NaN\n",
       "999899  id_0999900       C       32      320         합판       합판, 재단       NaN\n",
       "999932  id_0999933       C       18      181   PET, PVC   디자인, 컴퓨터처리       NaN\n",
       "\n",
       "[16009 rows x 7 columns]"
      ]
     },
     "execution_count": 140,
     "metadata": {},
     "output_type": "execute_result"
    }
   ],
   "source": [
    "condition1 = train['text_obj'].isnull() == False\n",
    "condition2 = train['text_mthd'].isnull() == False\n",
    "condition3 = train['text_deal'].isnull() == True\n",
    "\n",
    "train[condition1&condition2&condition3]"
   ]
  },
  {
   "cell_type": "code",
   "execution_count": 127,
   "metadata": {},
   "outputs": [
    {
     "data": {
      "text/plain": [
       "text_obj        text_mthd \n",
       "미용업             서비스           83\n",
       "미용실             서비스           51\n",
       "노래연습장           서비스           35\n",
       "철판              입고, 절단        27\n",
       "부동산중개업          부동산업          26\n",
       "                              ..\n",
       "벌꿀, 올리고당        추출, 농축         1\n",
       "벌목,목재운반         임업관련서비스        1\n",
       "벌크, 모래          입고, 수임검사       1\n",
       "벌크.몰딩콤파운드       자재입고, 유압성형     1\n",
       "히팅케이블, 히터및안전장치  주문, 재료입고       1\n",
       "Name: text_obj, Length: 14511, dtype: int64"
      ]
     },
     "execution_count": 127,
     "metadata": {},
     "output_type": "execute_result"
    }
   ],
   "source": [
    "train[condition1&condition2&condition3].groupby(['text_obj', 'text_mthd'])['text_obj'].count().sort_values(ascending=False)"
   ]
  },
  {
   "cell_type": "code",
   "execution_count": 128,
   "metadata": {},
   "outputs": [
    {
     "data": {
      "text/html": [
       "<div>\n",
       "<style scoped>\n",
       "    .dataframe tbody tr th:only-of-type {\n",
       "        vertical-align: middle;\n",
       "    }\n",
       "\n",
       "    .dataframe tbody tr th {\n",
       "        vertical-align: top;\n",
       "    }\n",
       "\n",
       "    .dataframe thead th {\n",
       "        text-align: right;\n",
       "    }\n",
       "</style>\n",
       "<table border=\"1\" class=\"dataframe\">\n",
       "  <thead>\n",
       "    <tr style=\"text-align: right;\">\n",
       "      <th></th>\n",
       "      <th>AI_id</th>\n",
       "      <th>digit_1</th>\n",
       "      <th>digit_2</th>\n",
       "      <th>digit_3</th>\n",
       "      <th>text_obj</th>\n",
       "      <th>text_mthd</th>\n",
       "      <th>text_deal</th>\n",
       "    </tr>\n",
       "  </thead>\n",
       "  <tbody>\n",
       "    <tr>\n",
       "      <th>214381</th>\n",
       "      <td>id_0214382</td>\n",
       "      <td>S</td>\n",
       "      <td>96</td>\n",
       "      <td>961</td>\n",
       "      <td>미용업</td>\n",
       "      <td>서비스</td>\n",
       "      <td>NaN</td>\n",
       "    </tr>\n",
       "    <tr>\n",
       "      <th>215125</th>\n",
       "      <td>id_0215126</td>\n",
       "      <td>S</td>\n",
       "      <td>96</td>\n",
       "      <td>961</td>\n",
       "      <td>미용업</td>\n",
       "      <td>서비스</td>\n",
       "      <td>NaN</td>\n",
       "    </tr>\n",
       "    <tr>\n",
       "      <th>216539</th>\n",
       "      <td>id_0216540</td>\n",
       "      <td>S</td>\n",
       "      <td>96</td>\n",
       "      <td>961</td>\n",
       "      <td>미용업</td>\n",
       "      <td>서비스</td>\n",
       "      <td>NaN</td>\n",
       "    </tr>\n",
       "    <tr>\n",
       "      <th>216634</th>\n",
       "      <td>id_0216635</td>\n",
       "      <td>S</td>\n",
       "      <td>96</td>\n",
       "      <td>961</td>\n",
       "      <td>미용업</td>\n",
       "      <td>서비스</td>\n",
       "      <td>NaN</td>\n",
       "    </tr>\n",
       "    <tr>\n",
       "      <th>217024</th>\n",
       "      <td>id_0217025</td>\n",
       "      <td>S</td>\n",
       "      <td>96</td>\n",
       "      <td>961</td>\n",
       "      <td>미용업</td>\n",
       "      <td>서비스</td>\n",
       "      <td>NaN</td>\n",
       "    </tr>\n",
       "    <tr>\n",
       "      <th>...</th>\n",
       "      <td>...</td>\n",
       "      <td>...</td>\n",
       "      <td>...</td>\n",
       "      <td>...</td>\n",
       "      <td>...</td>\n",
       "      <td>...</td>\n",
       "      <td>...</td>\n",
       "    </tr>\n",
       "    <tr>\n",
       "      <th>369825</th>\n",
       "      <td>id_0369826</td>\n",
       "      <td>S</td>\n",
       "      <td>96</td>\n",
       "      <td>961</td>\n",
       "      <td>미용업</td>\n",
       "      <td>서비스</td>\n",
       "      <td>헤어관리</td>\n",
       "    </tr>\n",
       "    <tr>\n",
       "      <th>369877</th>\n",
       "      <td>id_0369878</td>\n",
       "      <td>S</td>\n",
       "      <td>96</td>\n",
       "      <td>961</td>\n",
       "      <td>미용업</td>\n",
       "      <td>서비스</td>\n",
       "      <td>헤어미용서비스</td>\n",
       "    </tr>\n",
       "    <tr>\n",
       "      <th>370763</th>\n",
       "      <td>id_0370764</td>\n",
       "      <td>S</td>\n",
       "      <td>96</td>\n",
       "      <td>961</td>\n",
       "      <td>미용업</td>\n",
       "      <td>서비스</td>\n",
       "      <td>헤어샵</td>\n",
       "    </tr>\n",
       "    <tr>\n",
       "      <th>371112</th>\n",
       "      <td>id_0371113</td>\n",
       "      <td>S</td>\n",
       "      <td>96</td>\n",
       "      <td>961</td>\n",
       "      <td>미용업</td>\n",
       "      <td>서비스</td>\n",
       "      <td>헤어컷</td>\n",
       "    </tr>\n",
       "    <tr>\n",
       "      <th>371456</th>\n",
       "      <td>id_0371457</td>\n",
       "      <td>S</td>\n",
       "      <td>96</td>\n",
       "      <td>961</td>\n",
       "      <td>미용업</td>\n",
       "      <td>서비스</td>\n",
       "      <td>헤어컷.파마 외</td>\n",
       "    </tr>\n",
       "  </tbody>\n",
       "</table>\n",
       "<p>279 rows × 7 columns</p>\n",
       "</div>"
      ],
      "text/plain": [
       "             AI_id digit_1  digit_2  digit_3 text_obj text_mthd text_deal\n",
       "214381  id_0214382       S       96      961      미용업       서비스       NaN\n",
       "215125  id_0215126       S       96      961      미용업       서비스       NaN\n",
       "216539  id_0216540       S       96      961      미용업       서비스       NaN\n",
       "216634  id_0216635       S       96      961      미용업       서비스       NaN\n",
       "217024  id_0217025       S       96      961      미용업       서비스       NaN\n",
       "...            ...     ...      ...      ...      ...       ...       ...\n",
       "369825  id_0369826       S       96      961      미용업       서비스      헤어관리\n",
       "369877  id_0369878       S       96      961      미용업       서비스   헤어미용서비스\n",
       "370763  id_0370764       S       96      961      미용업       서비스       헤어샵\n",
       "371112  id_0371113       S       96      961      미용업       서비스       헤어컷\n",
       "371456  id_0371457       S       96      961      미용업       서비스  헤어컷.파마 외\n",
       "\n",
       "[279 rows x 7 columns]"
      ]
     },
     "execution_count": 128,
     "metadata": {},
     "output_type": "execute_result"
    }
   ],
   "source": [
    "condition1 = train['text_obj'] == '미용업'\n",
    "condition2 = train['text_mthd'] == '서비스'\n",
    "train[condition1&condition2]"
   ]
  },
  {
   "cell_type": "code",
   "execution_count": 94,
   "metadata": {},
   "outputs": [
    {
     "data": {
      "text/html": [
       "<div>\n",
       "<style scoped>\n",
       "    .dataframe tbody tr th:only-of-type {\n",
       "        vertical-align: middle;\n",
       "    }\n",
       "\n",
       "    .dataframe tbody tr th {\n",
       "        vertical-align: top;\n",
       "    }\n",
       "\n",
       "    .dataframe thead th {\n",
       "        text-align: right;\n",
       "    }\n",
       "</style>\n",
       "<table border=\"1\" class=\"dataframe\">\n",
       "  <thead>\n",
       "    <tr style=\"text-align: right;\">\n",
       "      <th></th>\n",
       "      <th>AI_id</th>\n",
       "      <th>digit_1</th>\n",
       "      <th>digit_2</th>\n",
       "      <th>digit_3</th>\n",
       "      <th>text_obj</th>\n",
       "      <th>text_mthd</th>\n",
       "      <th>text_deal</th>\n",
       "    </tr>\n",
       "  </thead>\n",
       "  <tbody>\n",
       "    <tr>\n",
       "      <th>194</th>\n",
       "      <td>id_0000195</td>\n",
       "      <td>C</td>\n",
       "      <td>26</td>\n",
       "      <td>262</td>\n",
       "      <td>코아, 보빈</td>\n",
       "      <td>검선, 니드보강</td>\n",
       "      <td>NaN</td>\n",
       "    </tr>\n",
       "  </tbody>\n",
       "</table>\n",
       "</div>"
      ],
      "text/plain": [
       "          AI_id digit_1  digit_2  digit_3 text_obj text_mthd text_deal\n",
       "194  id_0000195       C       26      262   코아, 보빈  검선, 니드보강       NaN"
      ]
     },
     "execution_count": 94,
     "metadata": {},
     "output_type": "execute_result"
    }
   ],
   "source": [
    "condition1 = train['text_obj'] == '코아, 보빈'\n",
    "condition2 = train['text_mthd'] == '입고, 재단'\n",
    "train[condition1&condition2]"
   ]
  },
  {
   "cell_type": "markdown",
   "metadata": {},
   "source": [
    "## <b>4.0 토큰화</b>"
   ]
  },
  {
   "cell_type": "code",
   "execution_count": 252,
   "metadata": {},
   "outputs": [
    {
     "name": "stdout",
     "output_type": "stream",
     "text": [
      "677\n",
      "100\n",
      "664\n"
     ]
    }
   ],
   "source": [
    "# 불용어 사전 불러오기\n",
    "\n",
    "stopwords = pd.read_csv(\"./data/stopwords/stopwords_1.csv\", encoding='CP949')\n",
    "stopwords = stopwords['stopwords']\n",
    "print(len(stopwords))\n",
    "\n",
    "stopwords_2 = pd.read_table(\"./data/stopwords/stopwords_2.txt\", names=['stopwords', '품사', 'ratio'])\n",
    "stopwords_2 = stopwords_2['stopwords']\n",
    "print(len(stopwords_2))\n",
    "\n",
    "# 불용어 사전 병합\n",
    "\n",
    "stopwords = pd.concat([stopwords, stopwords_2], axis=0)\n",
    "stopwords.drop_duplicates(inplace=True)\n",
    "stopwords.reset_index(inplace=True, drop=True)\n",
    "print(len(stopwords))\n",
    "\n",
    "# stopwords.to_csv(\"./data/stopwords/stopwords_concat.csv\", encoding='CP949') \n",
    "stopwords = list(stopwords)"
   ]
  },
  {
   "cell_type": "code",
   "execution_count": null,
   "metadata": {},
   "outputs": [],
   "source": [
    "# train 데이터 토크나이징\n",
    "\n",
    "mecab_train_text_obj = []\n",
    "mecab_train_text_mthd = []\n",
    "mecab_train_text_deal = []\n",
    "\n",
    "mecab = Mecab()\n",
    "\n",
    "for sentence in tqdm(train['text_obj']): # 진행상황 Progress Bar를 위한 tqdm library\n",
    "    tokenized_sentence = mecab.morphs(sentence) # 토큰화\n",
    "    stopwords_removed_sentence = [word for word in tokenized_sentence if not word in list(stopwords)] # 불용어 제거\n",
    "    mecab_train_text_obj.append(stopwords_removed_sentence)\n",
    "\n",
    "for sentence in tqdm(train['text_mthd']): # 진행상황 Progress Bar를 위한 tqdm library\n",
    "    tokenized_sentence = mecab.morphs(sentence) # 토큰화\n",
    "    stopwords_removed_sentence = [word for word in tokenized_sentence if not word in list(stopwords)] # 불용어 제거\n",
    "    mecab_train_text_mthd.append(stopwords_removed_sentence)\n",
    "\n",
    "for sentence in tqdm(train['text_deal']): # 진행상황 Progress Bar를 위한 tqdm library\n",
    "    tokenized_sentence = mecab.morphs(sentence) # 토큰화\n",
    "    stopwords_removed_sentence = [word for word in tokenized_sentence if not word in list(stopwords)] # 불용어 제거\n",
    "    mecab_train_text_deal.append(stopwords_removed_sentence)"
   ]
  },
  {
   "cell_type": "code",
   "execution_count": 204,
   "metadata": {},
   "outputs": [
    {
     "name": "stderr",
     "output_type": "stream",
     "text": [
      "100%|██████████| 92985/92985 [00:03<00:00, 25590.81it/s]\n",
      "100%|██████████| 92985/92985 [00:03<00:00, 23260.25it/s]\n",
      "100%|██████████| 92985/92985 [00:04<00:00, 21670.97it/s]\n"
     ]
    }
   ],
   "source": [
    "# test 데이터 토크나이징\n",
    "\n",
    "mecab_test_text_obj = []\n",
    "mecab_test_text_mthd = []\n",
    "mecab_test_text_deal = []\n",
    "\n",
    "mecab = Mecab()\n",
    "\n",
    "for sentence in tqdm(test['text_obj']): # 진행상황 Progress Bar를 위한 tqdm library\n",
    "    tokenized_sentence = mecab.morphs(sentence) # 토큰화\n",
    "    stopwords_removed_sentence = [word for word in tokenized_sentence if not word in list(stopwords)] # 불용어 제거\n",
    "    mecab_test_text_obj.append(stopwords_removed_sentence)\n",
    "\n",
    "for sentence in tqdm(test['text_mthd']): # 진행상황 Progress Bar를 위한 tqdm library\n",
    "    tokenized_sentence = mecab.morphs(sentence) # 토큰화\n",
    "    stopwords_removed_sentence = [word for word in tokenized_sentence if not word in list(stopwords)] # 불용어 제거\n",
    "    mecab_test_text_mthd.append(stopwords_removed_sentence)\n",
    "\n",
    "for sentence in tqdm(test['text_deal']): # 진행상황 Progress Bar를 위한 tqdm library\n",
    "    tokenized_sentence = mecab.morphs(sentence) # 토큰화\n",
    "    stopwords_removed_sentence = [word for word in tokenized_sentence if not word in list(stopwords)] # 불용어 제거\n",
    "    mecab_test_text_deal.append(stopwords_removed_sentence)"
   ]
  },
  {
   "cell_type": "code",
   "execution_count": 210,
   "metadata": {},
   "outputs": [],
   "source": [
    "train['text'] = mecab_train_text_obj\n",
    "train['text'] = train['text'] + mecab_train_text_mthd\n",
    "train['text'] = train['text'] + mecab_train_text_deal"
   ]
  },
  {
   "cell_type": "code",
   "execution_count": 207,
   "metadata": {},
   "outputs": [
    {
     "name": "stderr",
     "output_type": "stream",
     "text": [
      "C:\\Users\\Huitaek\\anaconda3\\lib\\site-packages\\pandas\\core\\computation\\expressions.py:69: VisibleDeprecationWarning: Creating an ndarray from ragged nested sequences (which is a list-or-tuple of lists-or-tuples-or ndarrays with different lengths or shapes) is deprecated. If you meant to do this, you must specify 'dtype=object' when creating the ndarray\n",
      "  return op(a, b)\n"
     ]
    }
   ],
   "source": [
    "test['text'] = mecab_test_text_obj\n",
    "test['text'] = test['text'] + mecab_test_text_mthd\n",
    "test['text'] = test['text'] + mecab_test_text_deal"
   ]
  },
  {
   "cell_type": "code",
   "execution_count": 212,
   "metadata": {},
   "outputs": [
    {
     "data": {
      "text/html": [
       "<div>\n",
       "<style scoped>\n",
       "    .dataframe tbody tr th:only-of-type {\n",
       "        vertical-align: middle;\n",
       "    }\n",
       "\n",
       "    .dataframe tbody tr th {\n",
       "        vertical-align: top;\n",
       "    }\n",
       "\n",
       "    .dataframe thead th {\n",
       "        text-align: right;\n",
       "    }\n",
       "</style>\n",
       "<table border=\"1\" class=\"dataframe\">\n",
       "  <thead>\n",
       "    <tr style=\"text-align: right;\">\n",
       "      <th></th>\n",
       "      <th>AI_id</th>\n",
       "      <th>digit_1</th>\n",
       "      <th>digit_2</th>\n",
       "      <th>digit_3</th>\n",
       "      <th>text_obj</th>\n",
       "      <th>text_mthd</th>\n",
       "      <th>text_deal</th>\n",
       "      <th>text</th>\n",
       "    </tr>\n",
       "  </thead>\n",
       "  <tbody>\n",
       "    <tr>\n",
       "      <th>0</th>\n",
       "      <td>id_0000001</td>\n",
       "      <td>S</td>\n",
       "      <td>95</td>\n",
       "      <td>952</td>\n",
       "      <td>카센터에서</td>\n",
       "      <td>자동차부분정비</td>\n",
       "      <td>타이어오일교환</td>\n",
       "      <td>[카센터, 자동차, 부분, 정비, 타이어, 교환]</td>\n",
       "    </tr>\n",
       "    <tr>\n",
       "      <th>1</th>\n",
       "      <td>id_0000002</td>\n",
       "      <td>G</td>\n",
       "      <td>47</td>\n",
       "      <td>472</td>\n",
       "      <td>상점내에서</td>\n",
       "      <td>일반인을 대상으로</td>\n",
       "      <td>채소과일판매</td>\n",
       "      <td>[상점, 일반인, 대상, 채소, 과일, 판매]</td>\n",
       "    </tr>\n",
       "    <tr>\n",
       "      <th>2</th>\n",
       "      <td>id_0000003</td>\n",
       "      <td>G</td>\n",
       "      <td>46</td>\n",
       "      <td>467</td>\n",
       "      <td>절단하여사업체에도매</td>\n",
       "      <td>공업용고무를가지고</td>\n",
       "      <td>합성고무도매</td>\n",
       "      <td>[절단, 사업체, 도매, 공업, 용, 고무, 고, 합성, 고무, 도매]</td>\n",
       "    </tr>\n",
       "    <tr>\n",
       "      <th>3</th>\n",
       "      <td>id_0000004</td>\n",
       "      <td>G</td>\n",
       "      <td>47</td>\n",
       "      <td>475</td>\n",
       "      <td>영업점에서</td>\n",
       "      <td>일반소비자에게</td>\n",
       "      <td>열쇠잠금장치</td>\n",
       "      <td>[영업, 일반, 소비자, 열쇠, 잠금장치]</td>\n",
       "    </tr>\n",
       "    <tr>\n",
       "      <th>4</th>\n",
       "      <td>id_0000005</td>\n",
       "      <td>Q</td>\n",
       "      <td>87</td>\n",
       "      <td>872</td>\n",
       "      <td>어린이집</td>\n",
       "      <td>보호자의 위탁을 받아</td>\n",
       "      <td>취학전아동보육</td>\n",
       "      <td>[어린이집, 보호자, 위탁, 취학전, 아동, 보육]</td>\n",
       "    </tr>\n",
       "  </tbody>\n",
       "</table>\n",
       "</div>"
      ],
      "text/plain": [
       "        AI_id digit_1  digit_2  digit_3    text_obj    text_mthd text_deal  \\\n",
       "0  id_0000001       S       95      952       카센터에서      자동차부분정비   타이어오일교환   \n",
       "1  id_0000002       G       47      472       상점내에서    일반인을 대상으로    채소과일판매   \n",
       "2  id_0000003       G       46      467  절단하여사업체에도매    공업용고무를가지고    합성고무도매   \n",
       "3  id_0000004       G       47      475       영업점에서      일반소비자에게    열쇠잠금장치   \n",
       "4  id_0000005       Q       87      872        어린이집  보호자의 위탁을 받아   취학전아동보육   \n",
       "\n",
       "                                      text  \n",
       "0              [카센터, 자동차, 부분, 정비, 타이어, 교환]  \n",
       "1                [상점, 일반인, 대상, 채소, 과일, 판매]  \n",
       "2  [절단, 사업체, 도매, 공업, 용, 고무, 고, 합성, 고무, 도매]  \n",
       "3                  [영업, 일반, 소비자, 열쇠, 잠금장치]  \n",
       "4             [어린이집, 보호자, 위탁, 취학전, 아동, 보육]  "
      ]
     },
     "execution_count": 212,
     "metadata": {},
     "output_type": "execute_result"
    }
   ],
   "source": [
    "train.head()"
   ]
  },
  {
   "cell_type": "code",
   "execution_count": 214,
   "metadata": {},
   "outputs": [
    {
     "data": {
      "text/html": [
       "<div>\n",
       "<style scoped>\n",
       "    .dataframe tbody tr th:only-of-type {\n",
       "        vertical-align: middle;\n",
       "    }\n",
       "\n",
       "    .dataframe tbody tr th {\n",
       "        vertical-align: top;\n",
       "    }\n",
       "\n",
       "    .dataframe thead th {\n",
       "        text-align: right;\n",
       "    }\n",
       "</style>\n",
       "<table border=\"1\" class=\"dataframe\">\n",
       "  <thead>\n",
       "    <tr style=\"text-align: right;\">\n",
       "      <th></th>\n",
       "      <th>AI_id</th>\n",
       "      <th>text_obj</th>\n",
       "      <th>text_mthd</th>\n",
       "      <th>text_deal</th>\n",
       "      <th>text</th>\n",
       "    </tr>\n",
       "  </thead>\n",
       "  <tbody>\n",
       "    <tr>\n",
       "      <th>0</th>\n",
       "      <td>id_000001</td>\n",
       "      <td>치킨전문점에서</td>\n",
       "      <td>고객의주문에의해</td>\n",
       "      <td>치킨판매</td>\n",
       "      <td>[치킨, 전문점, 고객, 주문, 치킨, 판매]</td>\n",
       "    </tr>\n",
       "    <tr>\n",
       "      <th>1</th>\n",
       "      <td>id_000002</td>\n",
       "      <td>산업공구</td>\n",
       "      <td>다른 소매업자에게</td>\n",
       "      <td>철물 수공구</td>\n",
       "      <td>[산업, 공구, 소매업자, 철물, 수공구]</td>\n",
       "    </tr>\n",
       "    <tr>\n",
       "      <th>2</th>\n",
       "      <td>id_000003</td>\n",
       "      <td>절에서</td>\n",
       "      <td>신도을 대상으로</td>\n",
       "      <td>불교단체운영</td>\n",
       "      <td>[절, 신도, 대상, 불교, 단체, 운영]</td>\n",
       "    </tr>\n",
       "    <tr>\n",
       "      <th>3</th>\n",
       "      <td>id_000004</td>\n",
       "      <td>영업장에서</td>\n",
       "      <td>고객요구로</td>\n",
       "      <td>자동차튜닝</td>\n",
       "      <td>[영업장, 고객, 요구, 자동차, 튜닝]</td>\n",
       "    </tr>\n",
       "    <tr>\n",
       "      <th>4</th>\n",
       "      <td>id_000005</td>\n",
       "      <td>실내포장마차에서</td>\n",
       "      <td>접객시설을 갖추고</td>\n",
       "      <td>소주맥주제공</td>\n",
       "      <td>[실내, 포장마차, 접객, 시설, 갖추, 고, 소주, 맥주, 제공]</td>\n",
       "    </tr>\n",
       "  </tbody>\n",
       "</table>\n",
       "</div>"
      ],
      "text/plain": [
       "       AI_id  text_obj  text_mthd text_deal  \\\n",
       "0  id_000001   치킨전문점에서   고객의주문에의해      치킨판매   \n",
       "1  id_000002      산업공구  다른 소매업자에게    철물 수공구   \n",
       "2  id_000003       절에서   신도을 대상으로    불교단체운영   \n",
       "3  id_000004     영업장에서      고객요구로     자동차튜닝   \n",
       "4  id_000005  실내포장마차에서  접객시설을 갖추고    소주맥주제공   \n",
       "\n",
       "                                    text  \n",
       "0              [치킨, 전문점, 고객, 주문, 치킨, 판매]  \n",
       "1                [산업, 공구, 소매업자, 철물, 수공구]  \n",
       "2                [절, 신도, 대상, 불교, 단체, 운영]  \n",
       "3                 [영업장, 고객, 요구, 자동차, 튜닝]  \n",
       "4  [실내, 포장마차, 접객, 시설, 갖추, 고, 소주, 맥주, 제공]  "
      ]
     },
     "execution_count": 214,
     "metadata": {},
     "output_type": "execute_result"
    }
   ],
   "source": [
    "test.head()"
   ]
  },
  {
   "cell_type": "code",
   "execution_count": 216,
   "metadata": {},
   "outputs": [],
   "source": [
    "X_train = train['text']\n",
    "X_train.to_csv('./data/mecab/tokenized_train.csv', index=False)\n",
    "\n",
    "X_test = test['text']\n",
    "X_test.to_csv('./data/mecab/tokenized_test.csv', index=False)"
   ]
  },
  {
   "cell_type": "markdown",
   "metadata": {},
   "source": [
    "## <b>5.0 인코딩</b>"
   ]
  },
  {
   "cell_type": "code",
   "execution_count": 254,
   "metadata": {},
   "outputs": [],
   "source": [
    "X_train = pd.read_csv('./data/mecab/tokenized_train.csv')\n",
    "X_train = pd.Series(X_train['text'])\n",
    "\n",
    "X_test = pd.read_csv(\"./data/mecab/tokenized_test.csv\")\n",
    "X_test = pd.Series(X_test['text'])"
   ]
  },
  {
   "cell_type": "code",
   "execution_count": 256,
   "metadata": {},
   "outputs": [],
   "source": [
    "y_train = np.array(train[['digit_1', 'digit_2', 'digit_3']])"
   ]
  },
  {
   "cell_type": "code",
   "execution_count": 268,
   "metadata": {},
   "outputs": [
    {
     "data": {
      "text/plain": [
       "array([['I', 56, 562],\n",
       "       ['I', 56, 561],\n",
       "       ['M', 71, 711],\n",
       "       ...,\n",
       "       ['P', 85, 856],\n",
       "       ['C', 26, 264],\n",
       "       ['C', 16, 162]], dtype=object)"
      ]
     },
     "execution_count": 268,
     "metadata": {},
     "output_type": "execute_result"
    }
   ],
   "source": [
    "y_train"
   ]
  },
  {
   "cell_type": "code",
   "execution_count": 258,
   "metadata": {},
   "outputs": [
    {
     "name": "stdout",
     "output_type": "stream",
     "text": [
      "단어 집합(vocabulary)의 크기 : 32545\n",
      "등장 빈도가 2번 이하인 희귀 단어의 수: 16775\n",
      "단어 집합에서 희귀 단어의 비율: 51.54401597787679\n",
      "전체 등장 빈도에서 희귀 단어 등장 빈도 비율: 0.3426075320681566\n",
      "단어 집합의 크기 : 15771\n"
     ]
    }
   ],
   "source": [
    "tokenizer = Tokenizer()\n",
    "tokenizer.fit_on_texts(X_train)\n",
    "\n",
    "threshold = 3 # 등장 빈도 수의 threshold\n",
    "total_cnt = len(tokenizer.word_index) # 단어의 수\n",
    "rare_cnt = 0 # 등장 빈도수가 threshold보다 작은 단어의 개수를 카운트\n",
    "total_freq = 0 # 훈련 데이터의 전체 단어 빈도수 총 합\n",
    "rare_freq = 0 # 등장 빈도수가 threshold보다 작은 단어의 등장 빈도\n",
    "\n",
    "# 단어와 빈도수의 쌍(pair)을 key와 value로 받는다.\n",
    "for key, value in tokenizer.word_counts.items():\n",
    "    total_freq = total_freq + value\n",
    "\n",
    "    # 단어의 등장 빈도수가 threshold보다 작으면\n",
    "    if(value < threshold):\n",
    "        rare_cnt = rare_cnt + 1\n",
    "        rare_freq = rare_freq + value\n",
    "\n",
    "print('단어 집합(vocabulary)의 크기 :',total_cnt)\n",
    "print('등장 빈도가 %s번 이하인 희귀 단어의 수: %s'%(threshold - 1, rare_cnt))\n",
    "print(\"단어 집합에서 희귀 단어의 비율:\", (rare_cnt / total_cnt)*100)\n",
    "print(\"전체 등장 빈도에서 희귀 단어 등장 빈도 비율:\", (rare_freq / total_freq)*100)\n",
    "\n",
    "# 전체 단어 개수 중 빈도수 2이하인 단어는 제거.\n",
    "# 0번 패딩 토큰을 고려하여 + 1\n",
    "vocab_size = total_cnt - rare_cnt + 1\n",
    "print('단어 집합의 크기 :',vocab_size)"
   ]
  },
  {
   "cell_type": "code",
   "execution_count": 259,
   "metadata": {},
   "outputs": [],
   "source": [
    "tokenizer = Tokenizer(vocab_size) \n",
    "tokenizer.fit_on_texts(X_train)\n",
    "X_train = tokenizer.texts_to_sequences(X_train)\n",
    "X_test = tokenizer.texts_to_sequences(X_test)"
   ]
  },
  {
   "cell_type": "code",
   "execution_count": 260,
   "metadata": {},
   "outputs": [],
   "source": [
    "from sklearn.model_selection import train_test_split\n",
    "X_train, X_test, y_train, y_test = train_test_split(X_train, y_train, test_size= 0.2, random_state=1234)"
   ]
  },
  {
   "cell_type": "markdown",
   "metadata": {},
   "source": [
    "## <b>6.0 패딩</b>"
   ]
  },
  {
   "cell_type": "code",
   "execution_count": 261,
   "metadata": {},
   "outputs": [
    {
     "name": "stdout",
     "output_type": "stream",
     "text": [
      "train data 개수:  925009\n",
      "test data 개수:  92985\n"
     ]
    },
    {
     "name": "stderr",
     "output_type": "stream",
     "text": [
      "C:\\Users\\Huitaek\\anaconda3\\lib\\site-packages\\numpy\\core\\_asarray.py:83: VisibleDeprecationWarning: Creating an ndarray from ragged nested sequences (which is a list-or-tuple of lists-or-tuples-or ndarrays with different lengths or shapes) is deprecated. If you meant to do this, you must specify 'dtype=object' when creating the ndarray\n",
      "  return array(a, dtype, copy=False, order=order)\n"
     ]
    }
   ],
   "source": [
    "# 문장 길이가 0 인 로우 삭제\n",
    "\n",
    "drop_train = [index for index, sentence in enumerate(X_train) if len(sentence) < 1]\n",
    "\n",
    "X_train = np.delete(X_train, drop_train, axis=0)\n",
    "y_train = np.delete(y_train, drop_train, axis=0)\n",
    "\n",
    "print('train data 개수: ', len(train))\n",
    "print('test data 개수: ', len(test))"
   ]
  },
  {
   "cell_type": "code",
   "execution_count": 264,
   "metadata": {},
   "outputs": [
    {
     "name": "stdout",
     "output_type": "stream",
     "text": [
      "리뷰의 최대 길이 : 26\n",
      "리뷰의 평균 길이 : 6.58999809459202\n"
     ]
    },
    {
     "data": {
      "image/png": "[encoded data removed]",
      "text/plain": [
       "<Figure size 432x288 with 1 Axes>"
      ]
     },
     "metadata": {
      "needs_background": "light"
     },
     "output_type": "display_data"
    },
    {
     "name": "stdout",
     "output_type": "stream",
     "text": [
      "전체 샘플 중 길이가 10 이하인 샘플의 비율: 97.59594269721987\n"
     ]
    }
   ],
   "source": [
    "# max_len 결정\n",
    "\n",
    "print('리뷰의 최대 길이 :',max(len(review) for review in X_train))\n",
    "print('리뷰의 평균 길이 :',sum(map(len, X_train))/len(X_train))\n",
    "\n",
    "plt.hist([len(review) for review in X_train], bins=50)\n",
    "plt.xlabel('length of samples')\n",
    "plt.ylabel('number of samples')\n",
    "plt.show()\n",
    "\n",
    "def below_threshold_len(max_len, nested_list):\n",
    "    count = 0\n",
    "    for sentence in nested_list:\n",
    "        if(len(sentence) <= max_len):\n",
    "            count = count + 1\n",
    "    print('전체 샘플 중 길이가 %s 이하인 샘플의 비율: %s'%(max_len, (count / len(nested_list))*100))\n",
    "    \n",
    "max_len = 10\n",
    "below_threshold_len(max_len, X_train)"
   ]
  },
  {
   "cell_type": "code",
   "execution_count": 265,
   "metadata": {},
   "outputs": [],
   "source": [
    "# max_len 에 맞게 데이터셋 패딩\n",
    "\n",
    "from tensorflow.keras.preprocessing.sequence import pad_sequences\n",
    "\n",
    "X_train = pad_sequences(X_train, maxlen=max_len)\n",
    "X_test = pad_sequences(X_test, maxlen=max_len)"
   ]
  },
  {
   "cell_type": "code",
   "execution_count": 266,
   "metadata": {},
   "outputs": [
    {
     "name": "stdout",
     "output_type": "stream",
     "text": [
      "739999 185002 739999 185002\n"
     ]
    }
   ],
   "source": [
    "# 데이터 셋 저장\n",
    "\n",
    "temp = pd.DataFrame(X_train)\n",
    "temp.to_csv('./data/mecab/X_train.csv', index=False)\n",
    "temp = pd.DataFrame(X_test)\n",
    "temp.to_csv('./data/mecab/X_test.csv', index=False)\n",
    "temp = pd.DataFrame(y_train)\n",
    "temp.to_csv('./data/mecab/y_train.csv', index=False)\n",
    "temp = pd.DataFrame(y_test)\n",
    "temp.to_csv('./data/mecab/y_test.csv', index=False)\n",
    "\n",
    "print(len(X_train), len(X_test), len(y_train), len(y_test))"
   ]
  }
 ],
 "metadata": {
  "interpreter": {
   "hash": "099c82bb4ace82ade8ea00d06692c6005c84f3239a96c9207fc6992d929102eb"
  },
  "kernelspec": {
   "display_name": "Python 3.8.8 ('base')",
   "language": "python",
   "name": "python3"
  },
  "language_info": {
   "codemirror_mode": {
    "name": "ipython",
    "version": 3
   },
   "file_extension": ".py",
   "mimetype": "text/x-python",
   "name": "python",
   "nbconvert_exporter": "python",
   "pygments_lexer": "ipython3",
   "version": "3.8.8"
  },
  "orig_nbformat": 4
 },
 "nbformat": 4,
 "nbformat_minor": 2
}
